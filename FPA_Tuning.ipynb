{
 "cells": [
  {
   "cell_type": "markdown",
   "metadata": {
    "id": "vZK0QO79ltyr"
   },
   "source": [
    "# FPA Tuning for PID-PD controller"
   ]
  },
  {
   "cell_type": "markdown",
   "metadata": {
    "id": "glu9VWOKlx9l"
   },
   "source": [
    "references :\n",
    " - [1] Yang, Xin-She. (2012). Flower Pollination Algorithm for Global Optimization. Unconventional Computation and Natural Computation 2012, Lecture Notes in Computer Science, Vol. 7445, pp. 240-249. (https://arxiv.org/pdf/1312.5673.pdf)\n",
    "\n",
    " - [2] Ma’ani, F. A., Nazaruddin, Y. Y. (2020). Optimization of Longitudinal Control of an Autonomous Vehicle using Flower Pollination Algorithm based on Data-driven Approach. International Journal of Sustainable Transportation Technology, Vol. 3, No. 2, October 2020, 58-65. (https://unijourn.com/upload/doc/articleDoc-1602137579265-main.pdf)"
   ]
  },
  {
   "cell_type": "markdown",
   "metadata": {
    "id": "xWaVy_j-oTLC"
   },
   "source": [
    "##Import Library"
   ]
  },
  {
   "cell_type": "code",
   "execution_count": 1,
   "metadata": {
    "colab": {
     "base_uri": "https://localhost:8080/"
    },
    "id": "HNdt-gbjnwfG",
    "outputId": "6a2819b2-9abc-4bf9-ccfe-39f5d830fe4b"
   },
   "outputs": [
    {
     "name": "stdout",
     "output_type": "stream",
     "text": [
      "Requirement already satisfied: control in c:\\users\\raihan miransyah\\anaconda3\\lib\\site-packages (0.8.4)\n",
      "Requirement already satisfied: scipy in c:\\users\\raihan miransyah\\anaconda3\\lib\\site-packages (from control) (1.5.2)\n",
      "Requirement already satisfied: numpy in c:\\users\\raihan miransyah\\anaconda3\\lib\\site-packages (from control) (1.19.4)\n",
      "Requirement already satisfied: matplotlib in c:\\users\\raihan miransyah\\anaconda3\\lib\\site-packages (from control) (3.3.2)\n",
      "Requirement already satisfied: certifi>=2020.06.20 in c:\\users\\raihan miransyah\\anaconda3\\lib\\site-packages (from matplotlib->control) (2020.12.5)\n",
      "Requirement already satisfied: cycler>=0.10 in c:\\users\\raihan miransyah\\anaconda3\\lib\\site-packages (from matplotlib->control) (0.10.0)\n",
      "Requirement already satisfied: pyparsing!=2.0.4,!=2.1.2,!=2.1.6,>=2.0.3 in c:\\users\\raihan miransyah\\anaconda3\\lib\\site-packages (from matplotlib->control) (2.4.7)\n",
      "Requirement already satisfied: pillow>=6.2.0 in c:\\users\\raihan miransyah\\anaconda3\\lib\\site-packages (from matplotlib->control) (8.0.1)\n",
      "Requirement already satisfied: python-dateutil>=2.1 in c:\\users\\raihan miransyah\\anaconda3\\lib\\site-packages (from matplotlib->control) (2.8.1)\n",
      "Requirement already satisfied: kiwisolver>=1.0.1 in c:\\users\\raihan miransyah\\anaconda3\\lib\\site-packages (from matplotlib->control) (1.3.0)\n",
      "Requirement already satisfied: six in c:\\users\\raihan miransyah\\anaconda3\\lib\\site-packages (from cycler>=0.10->matplotlib->control) (1.15.0)\n",
      "Requirement already satisfied: scipy in c:\\users\\raihan miransyah\\anaconda3\\lib\\site-packages (1.5.2)\n",
      "Requirement already satisfied: numpy>=1.14.5 in c:\\users\\raihan miransyah\\anaconda3\\lib\\site-packages (from scipy) (1.19.4)\n",
      "Requirement already satisfied: ipython-autotime in c:\\users\\raihan miransyah\\anaconda3\\lib\\site-packages (0.3.1)\n",
      "Requirement already satisfied: ipython in c:\\users\\raihan miransyah\\anaconda3\\lib\\site-packages (from ipython-autotime) (7.19.0)\n",
      "Requirement already satisfied: prompt-toolkit!=3.0.0,!=3.0.1,<3.1.0,>=2.0.0 in c:\\users\\raihan miransyah\\anaconda3\\lib\\site-packages (from ipython->ipython-autotime) (3.0.8)\n",
      "Requirement already satisfied: colorama in c:\\users\\raihan miransyah\\anaconda3\\lib\\site-packages (from ipython->ipython-autotime) (0.4.4)\n",
      "Requirement already satisfied: jedi>=0.10 in c:\\users\\raihan miransyah\\anaconda3\\lib\\site-packages (from ipython->ipython-autotime) (0.17.1)\n",
      "Requirement already satisfied: pygments in c:\\users\\raihan miransyah\\anaconda3\\lib\\site-packages (from ipython->ipython-autotime) (2.7.3)\n",
      "Requirement already satisfied: backcall in c:\\users\\raihan miransyah\\anaconda3\\lib\\site-packages (from ipython->ipython-autotime) (0.2.0)\n",
      "Requirement already satisfied: setuptools>=18.5 in c:\\users\\raihan miransyah\\anaconda3\\lib\\site-packages (from ipython->ipython-autotime) (51.0.0.post20201207)\n",
      "Requirement already satisfied: decorator in c:\\users\\raihan miransyah\\anaconda3\\lib\\site-packages (from ipython->ipython-autotime) (4.4.2)\n",
      "Requirement already satisfied: pickleshare in c:\\users\\raihan miransyah\\anaconda3\\lib\\site-packages (from ipython->ipython-autotime) (0.7.5)\n",
      "Requirement already satisfied: traitlets>=4.2 in c:\\users\\raihan miransyah\\anaconda3\\lib\\site-packages (from ipython->ipython-autotime) (5.0.5)\n",
      "Requirement already satisfied: parso<0.8.0,>=0.7.0 in c:\\users\\raihan miransyah\\anaconda3\\lib\\site-packages (from jedi>=0.10->ipython->ipython-autotime) (0.7.0)\n",
      "Requirement already satisfied: wcwidth in c:\\users\\raihan miransyah\\anaconda3\\lib\\site-packages (from prompt-toolkit!=3.0.0,!=3.0.1,<3.1.0,>=2.0.0->ipython->ipython-autotime) (0.2.5)\n",
      "Requirement already satisfied: ipython-genutils in c:\\users\\raihan miransyah\\anaconda3\\lib\\site-packages (from traitlets>=4.2->ipython->ipython-autotime) (0.2.0)\n",
      "time: 531 ms (started: 2021-04-19 01:44:14 +07:00)\n"
     ]
    }
   ],
   "source": [
    "# package install\n",
    "!pip install control\n",
    "!pip install scipy\n",
    "!pip install ipython-autotime\n",
    "%load_ext autotime\n",
    "\n",
    "# package load\n",
    "import numpy as np\n",
    "from control import *\n",
    "from control.matlab import *\n",
    "import matplotlib.pyplot as plt\n",
    "from scipy.integrate import *\n",
    "import math"
   ]
  },
  {
   "cell_type": "markdown",
   "metadata": {
    "id": "k-FWeji7n_vV"
   },
   "source": [
    "##Gantry Crane Model"
   ]
  },
  {
   "cell_type": "markdown",
   "metadata": {
    "id": "MjJkq5OuoAw9"
   },
   "source": [
    "![Untitled Diagram (1).png](data:image/png;base64,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)\n",
    "\n",
    "\n"
   ]
  },
  {
   "cell_type": "code",
   "execution_count": 2,
   "metadata": {
    "id": "muSm0nf_n_hX"
   },
   "outputs": [
    {
     "name": "stdout",
     "output_type": "stream",
     "text": [
      "time: 15 ms (started: 2021-04-19 01:44:14 +07:00)\n"
     ]
    }
   ],
   "source": [
    "#gantry model\n",
    "\n",
    "#parameters\n",
    "m1 = 1            #payload\n",
    "m2 = 1.5          #trolley\n",
    "l = 0.5           #rope length\n",
    "g = 9.81          #gravitational acceleration\n",
    "D = 12.32         #damping constant\n",
    "R = 0.5           #motor resistant\n",
    "Kt = 0.0071619    #torque constant\n",
    "Ke = 0.0071619    #electric constant\n",
    "rp = 0.012        #pulley radius\n",
    "r = 1             #gear ratio\n",
    "\n",
    "#state space representation\n",
    "a = ((R*rp)/(Kt*r))*(m1+m2)\n",
    "b = ((Ke*r)/(rp))+((D*R*rp)/(Kt*r))\n",
    "c = ((m1*l*R*rp)/(Kt*r))\n",
    "\n",
    "a22 = (-b)/(a -(c/l))\n",
    "a23 = (c*g)/(l*(a-(c/l)))\n",
    "a42 = (b)/(a*(l-(c/a)))\n",
    "a43 = (-g)/(l-(c/a))\n",
    "\n",
    "b21 = 1/(a-(c/l))\n",
    "b41 = (-1)/(a*(l-(c/a)))\n",
    "\n",
    "A = [[0,1,0,0],\n",
    "     [0,a22,a23,0],\n",
    "     [0,0,0,1],\n",
    "     [0,a42,a43,0]]\n",
    "\n",
    "B = [[0],\n",
    "     [b21],\n",
    "     [0],\n",
    "     [b41]]\n",
    "\n",
    "Cp = [1,0,0,0]\n",
    "Cs = [0,0,1,0]\n",
    "\n",
    "D = [0]\n",
    "\n",
    "ss_pos = ss(A,B,Cp,D)\n",
    "ss_swy = ss(A,B,Cs,D)\n",
    "tf_pos = tf(ss_pos)\n",
    "tf_swy = tf(ss_swy)\n",
    "\n",
    "tf_sys = [tf_pos,tf_swy]"
   ]
  },
  {
   "cell_type": "markdown",
   "metadata": {
    "id": "nPq29Z0OpUcf"
   },
   "source": [
    "##Closed Loop System"
   ]
  },
  {
   "cell_type": "code",
   "execution_count": 3,
   "metadata": {
    "id": "fjF7oNnYpf9c"
   },
   "outputs": [
    {
     "name": "stdout",
     "output_type": "stream",
     "text": [
      "time: 0 ns (started: 2021-04-19 01:44:14 +07:00)\n"
     ]
    }
   ],
   "source": [
    "# Closed loop system\n",
    "# Input argument :\n",
    "# param : [Kp,Ki,Kd,Kps,Kds] (1x5 list)\n",
    "# tf_sys : [tf_pos,tf_swy] (1x2 list)\n",
    "# t_sim : (1xn list) or simulation duration\n",
    "def closed_loop(param,tf_sys,t_sim): \n",
    "  pos,swy = tf_sys # pos: position transfer function, swy: sway transfer function\n",
    "\n",
    "  Kp, Ki, Kd, Kps, Kds = param # Kp,Ki,Kd (position PID controller); Kps, Kds (sway angle PD controller)\n",
    "\n",
    "  pid = tf([Kd, Kp, Ki],[1,0]) # position PID controller\n",
    "  pd = tf([Kds,Kps],1) # sway angle PD controller\n",
    "\n",
    "  #This is a SIMO system (Single Input Multiple Output), divide the output transfer function\n",
    "  #to make it easier for simulation\n",
    "  #Position Output\n",
    "  feedblk1 = feedback(1,(pd*swy),sign=1) \n",
    "  pos_blk = feedback(pid*feedblk1*pos,1,sign=-1)\n",
    "  [yp,_] = step(pos_blk,t_sim) \n",
    "\n",
    "  #Sway Output\n",
    "  feedblk2 = feedback(1,pos*pid,sign=-1)\n",
    "  feedblk3 = feedback(feedblk2*swy,pd,sign=1)\n",
    "  swy_blk = pid*feedblk3\n",
    "  [ys,_] = step(swy_blk,t_sim)\n",
    "\n",
    "  #routh stability criterion\n",
    "  # real poles < 0 == stable\n",
    "  poles_p = pole(pos_blk)\n",
    "  for i in poles_p.real:\n",
    "    if i > 0:\n",
    "      return False\n",
    "    else:\n",
    "      poles_s = pole(swy_blk)\n",
    "      for i in poles_s.real:\n",
    "        if i > 0:\n",
    "          return False\n",
    "\n",
    "  return [yp,ys]"
   ]
  },
  {
   "cell_type": "markdown",
   "metadata": {
    "id": "tK4ZC7vPKWMR"
   },
   "source": [
    "## Trajecotry Reference"
   ]
  },
  {
   "cell_type": "code",
   "execution_count": 4,
   "metadata": {
    "colab": {
     "base_uri": "https://localhost:8080/",
     "height": 315
    },
    "id": "t0jI8Vw4pcDw",
    "outputId": "6b8d77b1-abce-4a12-b48a-659841eb7390"
   },
   "outputs": [
    {
     "name": "stdout",
     "output_type": "stream",
     "text": [
      "SSE = 7.467358866275475e-05 , SettlingTime = 4.24, RiseTime = 2.6, Oveshoot = 0.0\n"
     ]
    },
    {
     "data": {
      "text/plain": [
       "Text(0.5, 1.0, 'X reference model')"
      ]
     },
     "execution_count": 4,
     "metadata": {},
     "output_type": "execute_result"
    },
    {
     "data": {
      "image/png": "[encoded data removed]",
      "text/plain": [
       "<Figure size 432x288 with 1 Axes>"
      ]
     },
     "metadata": {
      "needs_background": "light"
     },
     "output_type": "display_data"
    },
    {
     "name": "stdout",
     "output_type": "stream",
     "text": [
      "time: 140 ms (started: 2021-04-19 01:44:14 +07:00)\n"
     ]
    }
   ],
   "source": [
    "# refernce trajectory (step signal)\n",
    "def step_signal(value,time):\n",
    "  signal = np.zeros_like(time)\n",
    "  signal[time>=0] = 1\n",
    "  return value*signal\n",
    "\n",
    "#x_ref model 3th order ITAE\n",
    "#still editable and needs some check and validation\n",
    "damp_rat = 0.7         #damping ratio\n",
    "Ts = 1.7                   \n",
    "w = 4/(damp_rat*Ts)\n",
    "num = w**3\n",
    "den = [1,1.75*w, 2.15*w**2, 1.5*w**3]\n",
    "x_ref_tf = tf(num,den)\n",
    "x_ref_sys = feedback(x_ref_tf,-1)\n",
    "t_sim = np.arange(0,10,0.01)\n",
    "\n",
    "[x_ref,t] = step(0.5*x_ref_sys,t_sim)  #simulating trajectory\n",
    "\n",
    "#step info\n",
    "SSE_x = abs(1 - x_ref[-1])\n",
    "OS_x = (x_ref.max()/x_ref[-1]-1) #overshoot\n",
    "Tr_x= t[next(i for i in range(0,len(x_ref)-1) if x_ref[i]>x_ref[-1]*.90)]-t[0] #rise time\n",
    "try:\n",
    "  Ts_x = t[next(len(x_ref)-i for i in range(2,len(x_ref)-1) if abs(x_ref[-i]/x_ref[-1])<0.98)]-t[0]\n",
    "except StopIteration :\n",
    "  eval_pos = False\n",
    "\n",
    "print(\"SSE = {a} , SettlingTime = {b}, RiseTime = {c}, Oveshoot = {d}\".format(a = SSE_x,b = Ts_x, c = Tr_x , d = OS_x))\n",
    "\n",
    "plt.plot(t,x_ref,label='Response')\n",
    "plt.legend()\n",
    "plt.grid()\n",
    "plt.title('X reference model')"
   ]
  },
  {
   "cell_type": "markdown",
   "metadata": {
    "id": "dWnwh-jqprK1"
   },
   "source": [
    "##Cost"
   ]
  },
  {
   "cell_type": "markdown",
   "metadata": {
    "id": "K4_kndrHuNM2"
   },
   "source": [
    "*Objective min or max f(x), x = (x1, x2, ..., xd)*"
   ]
  },
  {
   "cell_type": "code",
   "execution_count": 5,
   "metadata": {
    "id": "bOmcpGowpvsl"
   },
   "outputs": [
    {
     "name": "stdout",
     "output_type": "stream",
     "text": [
      "time: 0 ns (started: 2021-04-19 01:44:15 +07:00)\n"
     ]
    }
   ],
   "source": [
    "#Cost Function \n",
    "def cost_func(x_ref,yp,ys,t):\n",
    "\n",
    "  #cost function reference [1]\n",
    "  dt = t[1]-t[0]\n",
    "\n",
    "  t1 = 2.6     #rise time\n",
    "  t2 = 4.24    #settling time\n",
    "\n",
    "  idx1 = np.where(t==t1)[0][0]\n",
    "  idx2 = np.where(t==t2)[0][0]\n",
    "\n",
    "  #initial stage\n",
    "  #ITSE performance index\n",
    "  init_stage = np.multiply(t[0:idx1],(yp[0:idx1]-x_ref[0:idx1])**2)*dt\n",
    "  j_initial = sum(init_stage)\n",
    "\n",
    "  #sway cancelation\n",
    "  swy_stage = np.multiply(t[idx1:-1],(ys[idx1:-1])**2)*dt\n",
    "  j_cancel = sum(swy_stage)\n",
    "\n",
    "  #final stage\n",
    "  final_stage = np.multiply(t[idx2:-1],(yp[idx2:-1]-x_ref[idx2:-1])**2)*dt\n",
    "  j_final = sum(final_stage)\n",
    "\n",
    "  #total cost\n",
    "  j = j_initial + j_cancel + j_final\n",
    "\n",
    "  return j"
   ]
  },
  {
   "cell_type": "markdown",
   "metadata": {
    "id": "uQMOu9Nlt8Xr"
   },
   "source": [
    "## Population (Flower) Generation"
   ]
  },
  {
   "cell_type": "markdown",
   "metadata": {
    "id": "J19zoz8JuVji"
   },
   "source": [
    "*Initialize a population of n flowers/pollen gametes with random solutions*"
   ]
  },
  {
   "cell_type": "code",
   "execution_count": 6,
   "metadata": {
    "id": "y49-eIiMuBtI"
   },
   "outputs": [
    {
     "name": "stdout",
     "output_type": "stream",
     "text": [
      "time: 0 ns (started: 2021-04-19 01:44:17 +07:00)\n"
     ]
    }
   ],
   "source": [
    "def generate_population(num_pop, num_par, par_range):\n",
    "  \"\"\"\n",
    "  Generate population with specific range/boundaries for each parameter\n",
    "  num_pop: population (flower) number (type: integer, size=m)\n",
    "  num_par: parameter count each population (flower) (type: integer or float, size=n)\n",
    "  par_range: each parameter range (type: array, size=nx2)\n",
    "  \"\"\"\n",
    "  flowers=np.zeros([num_pop,num_par])\n",
    "  for i in range(num_pop):\n",
    "    for j in range(num_par):\n",
    "      flowers[i][j]=np.random.uniform(par_range[j][0], par_range[j][1])\n",
    "  flowers_cost = np.zeros(n_pop)\n",
    "  return flowers, flowers_cost\n",
    "\n",
    "def parameter_bound(par_val, par_range):\n",
    "  \"\"\"\n",
    "  Adjust generated parameter according to parameter range/boundaries\n",
    "  par_val: parameter value (type: array, size=1xn)\n",
    "  par_range: each parameter range (type: array, size=nx2)\n",
    "  \"\"\"\n",
    "  for i in range(np.shape(par_val)[0]):\n",
    "    if par_val[i]<par_range[i][0]:\n",
    "      par_val[i]=par_range[i][0]\n",
    "    elif par_val[i]>par_range[i][1]:\n",
    "      par_val[i]=par_range[i][1]\n",
    "  \n",
    "  return par_val\n",
    "\n",
    "def Levy(d):\n",
    "  beta = 3/2\n",
    "  sigma = (math.gamma(1+beta)*np.sin(np.pi*beta/2)/(math.gamma((1+beta)/2)*beta*2**((beta-1)/2)))**(1/beta)\n",
    "  u = np.random.normal(0, 1, d)*sigma\n",
    "  v = np.random.normal(0, 1, d)\n",
    "  L = np.divide(abs(u), abs(v))**(1./beta)\n",
    "  return L"
   ]
  },
  {
   "cell_type": "markdown",
   "metadata": {
    "id": "5I0HUcZcJEj7"
   },
   "source": [
    "##Main Loop"
   ]
  },
  {
   "cell_type": "markdown",
   "metadata": {
    "id": "1AInH_D8Vgx6"
   },
   "source": [
    "###Iteration"
   ]
  },
  {
   "cell_type": "code",
   "execution_count": 7,
   "metadata": {
    "colab": {
     "base_uri": "https://localhost:8080/"
    },
    "id": "TFeg4iD7Vd0-",
    "outputId": "6ba89b95-f0d1-429b-d3de-384f93112003"
   },
   "outputs": [
    {
     "name": "stdout",
     "output_type": "stream",
     "text": [
      "Population count = 20\n",
      "Simulation count = 5\n",
      "Iteration count = 500\n",
      "Simulation 0 ---------------------------------\n"
     ]
    },
    {
     "name": "stderr",
     "output_type": "stream",
     "text": [
      "C:\\Users\\Raihan Miransyah\\Anaconda3\\lib\\site-packages\\scipy\\signal\\filter_design.py:1626: BadCoefficients: Badly conditioned filter coefficients (numerator): the results may be meaningless\n",
      "  \"results may be meaningless\", BadCoefficients)\n"
     ]
    },
    {
     "name": "stdout",
     "output_type": "stream",
     "text": [
      "Iteration = 1 - Best solution = [14.74601108  0.52042228 18.67792799 51.00037964 11.56609475] - Best cost = 0.15808429702091745\n",
      "Iteration = 51 - Best solution = [8.84574882e+00 4.92242072e-03 7.48551454e+00 8.54233290e+01\n",
      " 1.39258359e+01] - Best cost = 0.0016471535645207396\n",
      "Iteration = 101 - Best solution = [8.71374089e+00 7.35497440e-03 3.05975842e+00 3.17308693e+01\n",
      " 8.03023253e+00] - Best cost = 0.0014262323061506584\n",
      "Iteration = 151 - Best solution = [8.71430181e+00 3.43651786e-03 1.60999283e+00 1.77148988e+01\n",
      " 4.02707865e+00] - Best cost = 0.0012247027816939698\n",
      "Iteration = 201 - Best solution = [8.69821411e+00 2.86647925e-03 1.54034891e+00 1.69100689e+01\n",
      " 3.92429843e+00] - Best cost = 0.0012220635679565267\n",
      "Iteration = 251 - Best solution = [8.69751310e+00 2.89763126e-03 1.54006503e+00 1.69020792e+01\n",
      " 3.93407004e+00] - Best cost = 0.0012220582687245852\n",
      "Iteration = 301 - Best solution = [8.69753200e+00 2.89582894e-03 1.53961784e+00 1.68976630e+01\n",
      " 3.93315286e+00] - Best cost = 0.0012220582555130006\n",
      "Iteration = 351 - Best solution = [8.69753501e+00 2.89591574e-03 1.53961579e+00 1.68976520e+01\n",
      " 3.93304338e+00] - Best cost = 0.0012220582548510676\n",
      "Iteration = 401 - Best solution = [8.69753487e+00 2.89592147e-03 1.53961570e+00 1.68976506e+01\n",
      " 3.93304321e+00] - Best cost = 0.0012220582548508065\n",
      "Iteration = 451 - Best solution = [8.69753487e+00 2.89592147e-03 1.53961570e+00 1.68976506e+01\n",
      " 3.93304321e+00] - Best cost = 0.0012220582548508065\n",
      "Simulation 1 ---------------------------------\n",
      "Iteration = 1 - Best solution = [65.38728939  1.80551561 31.67407246 56.72782544 -2.60790617] - Best cost = 0.4049924702198381\n",
      "Iteration = 51 - Best solution = [8.86477903e+00 6.21535176e-03 4.65144456e+00 5.16692637e+01\n",
      " 8.39761338e+00] - Best cost = 0.0015131158447256928\n",
      "Iteration = 101 - Best solution = [8.66986171e+00 5.00760091e-03 1.75431236e+00 1.88683858e+01\n",
      " 4.48692551e+00] - Best cost = 0.001227177040388463\n",
      "Iteration = 151 - Best solution = [8.69735544e+00 2.88699333e-03 1.54377586e+00 1.69392298e+01\n",
      " 3.94111879e+00] - Best cost = 0.0012220600211373537\n",
      "Iteration = 201 - Best solution = [8.69742567e+00 2.90879754e-03 1.54307884e+00 1.69311366e+01\n",
      " 3.94011496e+00] - Best cost = 0.0012220590580920441\n",
      "Iteration = 251 - Best solution = [8.69754123e+00 2.89633085e-03 1.53964087e+00 1.68977291e+01\n",
      " 3.93304410e+00] - Best cost = 0.0012220582557694486\n",
      "Iteration = 301 - Best solution = [8.69753550e+00 2.89588722e-03 1.53961503e+00 1.68976409e+01\n",
      " 3.93303556e+00] - Best cost = 0.0012220582548538028\n",
      "Iteration = 351 - Best solution = [8.69753487e+00 2.89591915e-03 1.53961513e+00 1.68976444e+01\n",
      " 3.93304243e+00] - Best cost = 0.0012220582548508573\n",
      "Iteration = 401 - Best solution = [8.69753485e+00 2.89592281e-03 1.53961542e+00 1.68976484e+01\n",
      " 3.93304333e+00] - Best cost = 0.0012220582548508208\n",
      "Iteration = 451 - Best solution = [8.69753486e+00 2.89592214e-03 1.53961542e+00 1.68976484e+01\n",
      " 3.93304318e+00] - Best cost = 0.0012220582548507788\n",
      "Simulation 2 ---------------------------------\n",
      "Iteration = 1 - Best solution = [18.64649064  1.92050703 14.60898453 22.98809463  1.15366203] - Best cost = 0.24148622068009296\n",
      "Iteration = 51 - Best solution = [8.68188116e+00 1.80120224e-03 1.60126735e+00 1.85997701e+01\n",
      " 4.40988192e+00] - Best cost = 0.0012531097177393032\n",
      "Iteration = 101 - Best solution = [8.69637699e+00 2.88826785e-03 1.56108921e+00 1.70821728e+01\n",
      " 3.99187568e+00] - Best cost = 0.0012221214317630889\n",
      "Iteration = 151 - Best solution = [8.69718305e+00 2.90753360e-03 1.54934503e+00 1.69939866e+01\n",
      " 3.95694750e+00] - Best cost = 0.0012220654929769755\n",
      "Iteration = 201 - Best solution = [8.69750377e+00 2.90167724e-03 1.53913653e+00 1.68920574e+01\n",
      " 3.93233338e+00] - Best cost = 0.0012220583167787517\n",
      "Iteration = 251 - Best solution = [8.69753607e+00 2.89598488e-03 1.53959071e+00 1.68973764e+01\n",
      " 3.93298449e+00] - Best cost = 0.0012220582549292763\n",
      "Iteration = 301 - Best solution = [8.69753508e+00 2.89591365e-03 1.53961357e+00 1.68976294e+01\n",
      " 3.93303646e+00] - Best cost = 0.0012220582548516457\n",
      "Iteration = 351 - Best solution = [8.69753474e+00 2.89592144e-03 1.53961545e+00 1.68976480e+01\n",
      " 3.93304347e+00] - Best cost = 0.00122205825485085\n",
      "Iteration = 401 - Best solution = [8.69753483e+00 2.89592418e-03 1.53961545e+00 1.68976480e+01\n",
      " 3.93304327e+00] - Best cost = 0.0012220582548507451\n",
      "Iteration = 451 - Best solution = [8.69753483e+00 2.89592414e-03 1.53961544e+00 1.68976480e+01\n",
      " 3.93304324e+00] - Best cost = 0.0012220582548507389\n",
      "Simulation 3 ---------------------------------\n",
      "Iteration = 1 - Best solution = [28.23242374  3.9307189  43.46105197 58.07133459  6.83185539] - Best cost = 0.3386834241565456\n",
      "Iteration = 51 - Best solution = [8.82295478e+00 4.06352011e-03 6.06995690e+00 6.82211594e+01\n",
      " 1.13756140e+01] - Best cost = 0.0015741331906771918\n",
      "Iteration = 101 - Best solution = [8.70205344e+00 9.05653946e-03 2.77219284e+00 2.85060222e+01\n",
      " 6.36915890e+00] - Best cost = 0.0013092254523768016\n",
      "Iteration = 151 - Best solution = [8.71025816e+00 2.01942450e-03 1.51615547e+00 1.65830303e+01\n",
      " 3.76913105e+00] - Best cost = 0.001223212250597525\n",
      "Iteration = 201 - Best solution = [8.69787635e+00 2.89314045e-03 1.54178115e+00 1.69244528e+01\n",
      " 3.93390031e+00] - Best cost = 0.0012220599827003267\n",
      "Iteration = 251 - Best solution = [8.69752987e+00 2.89549201e-03 1.53949803e+00 1.68968075e+01\n",
      " 3.93269400e+00] - Best cost = 0.0012220582600014607\n",
      "Iteration = 301 - Best solution = [8.69753465e+00 2.89591166e-03 1.53961160e+00 1.68976076e+01\n",
      " 3.93303675e+00] - Best cost = 0.0012220582548523658\n",
      "Iteration = 351 - Best solution = [8.69753488e+00 2.89592433e-03 1.53961556e+00 1.68976487e+01\n",
      " 3.93304293e+00] - Best cost = 0.0012220582548508284\n",
      "Iteration = 401 - Best solution = [8.69753488e+00 2.89592533e-03 1.53961551e+00 1.68976479e+01\n",
      " 3.93304302e+00] - Best cost = 0.0012220582548507998\n",
      "Iteration = 451 - Best solution = [8.69753488e+00 2.89592533e-03 1.53961551e+00 1.68976480e+01\n",
      " 3.93304301e+00] - Best cost = 0.0012220582548507833\n",
      "Simulation 4 ---------------------------------\n",
      "Iteration = 1 - Best solution = [27.80104644  0.97075943 19.23303922 31.20917739 -2.86979401] - Best cost = 0.25091038830443557\n",
      "Iteration = 51 - Best solution = [8.69032955e+00 2.10570663e-02 3.55170581e+00 3.75978342e+01\n",
      " 7.58602795e+00] - Best cost = 0.0014963701642484242\n",
      "Iteration = 101 - Best solution = [8.71962045e+00 3.97596420e-03 1.61580564e+00 1.78751791e+01\n",
      " 4.08576492e+00] - Best cost = 0.0012288907726120983\n",
      "Iteration = 151 - Best solution = [8.69437903e+00 3.06667431e-03 1.58237148e+00 1.73083708e+01\n",
      " 4.04722142e+00] - Best cost = 0.0012222008648810968\n",
      "Iteration = 201 - Best solution = [8.69744412e+00 2.90941353e-03 1.54078968e+00 1.69034581e+01\n",
      " 3.93746409e+00] - Best cost = 0.0012220592553936255\n",
      "Iteration = 251 - Best solution = [8.69751089e+00 2.89592587e-03 1.53972509e+00 1.68985767e+01\n",
      " 3.93349208e+00] - Best cost = 0.001222058258987141\n",
      "Iteration = 301 - Best solution = [8.69753443e+00 2.89592605e-03 1.53962444e+00 1.68977360e+01\n",
      " 3.93306236e+00] - Best cost = 0.00122205825485699\n",
      "Iteration = 351 - Best solution = [8.69753461e+00 2.89592453e-03 1.53961647e+00 1.68976561e+01\n",
      " 3.93304627e+00] - Best cost = 0.0012220582548510663\n",
      "Iteration = 401 - Best solution = [8.69753473e+00 2.89592735e-03 1.53961654e+00 1.68976580e+01\n",
      " 3.93304603e+00] - Best cost = 0.0012220582548508481\n",
      "Iteration = 451 - Best solution = [8.69753472e+00 2.89592737e-03 1.53961647e+00 1.68976577e+01\n",
      " 3.93304611e+00] - Best cost = 0.0012220582548508022\n",
      "time: 16min 53s (started: 2021-04-19 01:44:19 +07:00)\n"
     ]
    }
   ],
   "source": [
    "# parameter range setup\n",
    "r_kp = [5, 90]\n",
    "r_ki = [-5, 5]\n",
    "r_kd = [-10, 50]\n",
    "r_kps = [5, 90]\n",
    "r_kds = [-10, 50]\n",
    "par_range = [r_kp, r_ki, r_kd, r_kps, r_kds]\n",
    "\n",
    "# fpa parameter\n",
    "# Define a switch probability p ∈ [0, 1]\n",
    "p = 0.5 #switch probability\n",
    "\n",
    "n_pop = int(input('Population count = '))\n",
    "n_sim = int(input('Simulation count = '))\n",
    "iter = int(input('Iteration count = '))\n",
    "\n",
    "# n_pop = 10\n",
    "# n_sim = 2\n",
    "# iter = 2000\n",
    "\n",
    "best_g_star_history = np.zeros([n_sim,np.shape(par_range)[0]])\n",
    "best_cost_history = np.zeros([n_sim,1])\n",
    "\n",
    "for sim in range(n_sim):\n",
    "  print(f'Simulation {sim} ---------------------------------')\n",
    "  # Initialize a population of n flowers/pollen gametes with random solutions\n",
    "  while(True):\n",
    "    count=0\n",
    "    flowers,flowers_cost = generate_population(n_pop, np.shape(par_range)[0], par_range)\n",
    "    for i in range(n_pop):\n",
    "      if closed_loop(flowers[i],tf_sys,t_sim)==False:\n",
    "        count+=1\n",
    "    if count <= n_pop/2:\n",
    "      break\n",
    "  \n",
    "  next_flowers = np.copy(flowers)\n",
    "\n",
    "  # Find the best solution g∗ in the initial population\n",
    "  for i in range(n_pop):\n",
    "    cl_sim = closed_loop(flowers[i],tf_sys,t_sim)\n",
    "    if cl_sim == False:\n",
    "      flowers_cost[i] = np.Inf\n",
    "    else:\n",
    "      [yp,ys] = cl_sim\n",
    "      flowers_cost[i] = cost_func(x_ref,yp,ys,t_sim)\n",
    "  g_star_idx = np.argmin(flowers_cost)\n",
    "  g_star = flowers[g_star_idx]\n",
    "\n",
    "  next_flowers_cost = np.copy(flowers_cost)\n",
    "\n",
    "  # FPA\n",
    "  for i in range(iter):\n",
    "    for j in range(n_pop):\n",
    "      if np.random.random() < p:\n",
    "        # Draw a (d-dimensional) step vector L which obeys a L´evy distribution\n",
    "        L = Levy(np.shape(par_range)[0])\n",
    "        # Global pollination\n",
    "        temp=flowers[j]+L*(g_star-flowers[j])\n",
    "      else:\n",
    "        # Draw ∈ from a uniform distribution in [0,1]\n",
    "        eps = np.random.uniform(0,1)\n",
    "        # Randomly choose j2 and k2 among all the solutions\n",
    "        while(True):\n",
    "          j2, k2 = np.random.randint(0, n_pop, 2)\n",
    "          if j2==k2 or j2==j or k2==j:\n",
    "            continue\n",
    "          break\n",
    "        # Local pollination\n",
    "        temp=flowers[j]+eps*(flowers[j2]-flowers[k2])\n",
    "      # Evaluate new solutions\n",
    "      cl_sim = closed_loop(temp,tf_sys,t_sim)\n",
    "      if cl_sim == False:\n",
    "        temp_cost = np.Inf\n",
    "      else:\n",
    "        [yp,ys] = cl_sim\n",
    "        temp_cost = cost_func(x_ref,yp,ys,t)\n",
    "      if temp_cost < flowers_cost[j]:\n",
    "        next_flowers[j]=temp\n",
    "        next_flowers_cost[j]=temp_cost\n",
    "\n",
    "    flowers = np.copy(next_flowers)\n",
    "    flowers_cost = np.copy(next_flowers_cost)\n",
    "\n",
    "    # Find the current best solution g∗\n",
    "    \n",
    "    g_star_idx = np.argmin(flowers_cost)\n",
    "    g_star = flowers[g_star_idx]\n",
    "    g_star_cost = np.min(flowers_cost)\n",
    "\n",
    "    if i%50==0:\n",
    "      print(f'Iteration = {i+1} - Best solution = {g_star} - Best cost = {np.min(flowers_cost)}')\n",
    "  best_g_star_history[sim] = g_star\n",
    "  best_cost_history[sim] = g_star_cost"
   ]
  },
  {
   "cell_type": "code",
   "execution_count": null,
   "metadata": {
    "colab": {
     "base_uri": "https://localhost:8080/"
    },
    "id": "tSWRUmwqJHyp",
    "outputId": "a2ed3f08-a7be-4e9b-c7f0-95ad0d4572cc"
   },
   "outputs": [
    {
     "name": "stdout",
     "output_type": "stream",
     "text": [
      "Simulation 0 ---------------------------------\n",
      "Iteration = 1 - Best solution = [ 92.04474747  48.44267614  78.84862088  66.57205767 -13.85204248] - Best cost = 0.45869357427359025\n"
     ]
    },
    {
     "name": "stderr",
     "output_type": "stream",
     "text": [
      "/usr/local/lib/python3.7/dist-packages/scipy/signal/filter_design.py:1622: BadCoefficients: Badly conditioned filter coefficients (numerator): the results may be meaningless\n",
      "  \"results may be meaningless\", BadCoefficients)\n"
     ]
    },
    {
     "name": "stdout",
     "output_type": "stream",
     "text": [
      "Iteration = 50 - Best solution = [8.41671566e+00 7.86585256e-02 5.10231855e+01 5.83360864e+02\n",
      " 1.00307743e+02] - Best cost = 0.002124942193597038\n",
      "Iteration = 100 - Best solution = [8.70223867e+00 4.21592182e-02 5.27002232e+01 6.15369998e+02\n",
      " 1.08782599e+02] - Best cost = 0.0018731142132158225\n",
      "Iteration = 150 - Best solution = [8.73151590e+00 3.82676549e-02 5.00986629e+01 5.85201420e+02\n",
      " 1.03881590e+02] - Best cost = 0.0018712505976895006\n",
      "Iteration = 200 - Best solution = [8.84811675e+00 1.71916663e-02 2.08621145e+01 2.41814792e+02\n",
      " 4.25952953e+01] - Best cost = 0.0018240481343003612\n",
      "Iteration = 250 - Best solution = [8.73550583e+00 2.40089379e-03 1.94562285e+00 2.11030607e+01\n",
      " 4.47443241e+00] - Best cost = 0.0012383339214748516\n",
      "Iteration = 300 - Best solution = [8.70075197e+00 1.94788738e-03 1.47183182e+00 1.62910864e+01\n",
      " 3.79630019e+00] - Best cost = 0.0012227558304125261\n",
      "Iteration = 350 - Best solution = [8.69944550e+00 2.69445019e-03 1.52596215e+00 1.67633255e+01\n",
      " 3.89047134e+00] - Best cost = 0.0012220922008962572\n",
      "Iteration = 400 - Best solution = [8.69752113e+00 2.87835733e-03 1.53762949e+00 1.68802382e+01\n",
      " 3.93107267e+00] - Best cost = 0.0012220589353922095\n",
      "Iteration = 450 - Best solution = [8.69754362e+00 2.89482673e-03 1.53924085e+00 1.68939813e+01\n",
      " 3.93227875e+00] - Best cost = 0.0012220582642316965\n",
      "Iteration = 500 - Best solution = [8.69753238e+00 2.89623305e-03 1.53961497e+00 1.68976339e+01\n",
      " 3.93306960e+00] - Best cost = 0.0012220582549310583\n",
      "Iteration = 550 - Best solution = [8.69753497e+00 2.89592727e-03 1.53961500e+00 1.68976449e+01\n",
      " 3.93304260e+00] - Best cost = 0.001222058254851076\n",
      "Iteration = 600 - Best solution = [8.69753473e+00 2.89593003e-03 1.53961654e+00 1.68976581e+01\n",
      " 3.93304657e+00] - Best cost = 0.0012220582548508056\n",
      "Iteration = 650 - Best solution = [8.69753476e+00 2.89592982e-03 1.53961604e+00 1.68976531e+01\n",
      " 3.93304518e+00] - Best cost = 0.0012220582548507326\n",
      "Iteration = 700 - Best solution = [8.69753478e+00 2.89592681e-03 1.53961567e+00 1.68976494e+01\n",
      " 3.93304422e+00] - Best cost = 0.001222058254850716\n",
      "Iteration = 750 - Best solution = [8.69753481e+00 2.89592390e-03 1.53961579e+00 1.68976507e+01\n",
      " 3.93304432e+00] - Best cost = 0.0012220582548507068\n",
      "Iteration = 800 - Best solution = [8.69753482e+00 2.89592389e-03 1.53961578e+00 1.68976507e+01\n",
      " 3.93304412e+00] - Best cost = 0.001222058254850706\n",
      "Iteration = 850 - Best solution = [8.69753482e+00 2.89592428e-03 1.53961567e+00 1.68976507e+01\n",
      " 3.93304410e+00] - Best cost = 0.0012220582548506818\n",
      "Iteration = 900 - Best solution = [8.69753482e+00 2.89592428e-03 1.53961570e+00 1.68976507e+01\n",
      " 3.93304410e+00] - Best cost = 0.0012220582548506614\n",
      "Iteration = 950 - Best solution = [8.69753482e+00 2.89592428e-03 1.53961570e+00 1.68976507e+01\n",
      " 3.93304410e+00] - Best cost = 0.0012220582548506614\n",
      "Iteration = 1000 - Best solution = [8.69753482e+00 2.89592428e-03 1.53961570e+00 1.68976507e+01\n",
      " 3.93304410e+00] - Best cost = 0.0012220582548506614\n",
      "Simulation 1 ---------------------------------\n",
      "Iteration = 1 - Best solution = [ 56.76428373  10.88339949  80.16735611 116.99090964 -34.69066146] - Best cost = 0.4378253337278757\n",
      "Iteration = 50 - Best solution = [8.40762848e+00 1.72235696e-01 5.44634403e+01 6.08969537e+02\n",
      " 5.83616876e+01] - Best cost = 0.004189376614447499\n",
      "Iteration = 100 - Best solution = [8.67655048e+00 4.65957367e-02 4.91995054e+01 5.74533598e+02\n",
      " 1.01542402e+02] - Best cost = 0.001877533387050923\n",
      "Iteration = 150 - Best solution = [8.79206966e+00 2.71430747e-02 4.33809951e+01 5.07130211e+02\n",
      " 9.03146500e+01] - Best cost = 0.0018682886366556597\n",
      "Iteration = 200 - Best solution = [8.80273503e+00 2.57606003e-02 4.06467762e+01 4.74186625e+02\n",
      " 8.36131171e+01] - Best cost = 0.00186465884574809\n",
      "Iteration = 250 - Best solution = [8.85354629e+00 1.99522380e-03 2.53650126e+00 2.75049885e+01\n",
      " 3.87549666e+00] - Best cost = 0.0013859869552274588\n",
      "Iteration = 300 - Best solution = [8.70506133e+00 3.53940912e-03 1.59278411e+00 1.75063224e+01\n",
      " 3.89852951e+00] - Best cost = 0.0012238929088472428\n"
     ]
    },
    {
     "name": "stderr",
     "output_type": "stream",
     "text": [
      "/usr/local/lib/python3.7/dist-packages/control/timeresp.py:403: RuntimeWarning: invalid value encountered in subtract\n",
      "  Bd0 = expM[:n_states, n_states:n_states + n_inputs] - Bd1\n"
     ]
    },
    {
     "name": "stdout",
     "output_type": "stream",
     "text": [
      "Iteration = 350 - Best solution = [8.69685452e+00 2.89137752e-03 1.55503261e+00 1.70504376e+01\n",
      " 3.96727355e+00] - Best cost = 0.0012220773346075025\n",
      "Iteration = 400 - Best solution = [8.69734627e+00 2.90212042e-03 1.54092637e+00 1.69104210e+01\n",
      " 3.93745968e+00] - Best cost = 0.0012220584909589324\n",
      "Iteration = 450 - Best solution = [8.69748877e+00 2.90111438e-03 1.54029562e+00 1.69042401e+01\n",
      " 3.93473516e+00] - Best cost = 0.0012220582925047392\n",
      "Iteration = 500 - Best solution = [8.69751523e+00 2.89700704e-03 1.53963449e+00 1.68976473e+01\n",
      " 3.93321080e+00] - Best cost = 0.0012220582567885315\n",
      "Iteration = 550 - Best solution = [8.69753318e+00 2.89613481e-03 1.53965640e+00 1.68980474e+01\n",
      " 3.93314658e+00] - Best cost = 0.0012220582549768936\n",
      "Iteration = 600 - Best solution = [8.69753463e+00 2.89595304e-03 1.53962836e+00 1.68977743e+01\n",
      " 3.93307000e+00] - Best cost = 0.001222058254861663\n",
      "Iteration = 650 - Best solution = [8.69753477e+00 2.89588918e-03 1.53961832e+00 1.68976778e+01\n",
      " 3.93305042e+00] - Best cost = 0.0012220582548529845\n",
      "Iteration = 700 - Best solution = [8.69753491e+00 2.89592489e-03 1.53961740e+00 1.68976662e+01\n",
      " 3.93304651e+00] - Best cost = 0.0012220582548510177\n",
      "Iteration = 750 - Best solution = [8.69753487e+00 2.89592217e-03 1.53961597e+00 1.68976532e+01\n",
      " 3.93304429e+00] - Best cost = 0.0012220582548507677\n",
      "Iteration = 800 - Best solution = [8.69753483e+00 2.89592253e-03 1.53961594e+00 1.68976530e+01\n",
      " 3.93304409e+00] - Best cost = 0.001222058254850747\n",
      "Iteration = 850 - Best solution = [8.69753483e+00 2.89592436e-03 1.53961596e+00 1.68976525e+01\n",
      " 3.93304423e+00] - Best cost = 0.0012220582548507066\n",
      "Iteration = 900 - Best solution = [8.69753483e+00 2.89592436e-03 1.53961596e+00 1.68976525e+01\n",
      " 3.93304423e+00] - Best cost = 0.0012220582548507066\n",
      "Iteration = 950 - Best solution = [8.69753483e+00 2.89592426e-03 1.53961596e+00 1.68976531e+01\n",
      " 3.93304396e+00] - Best cost = 0.0012220582548506825\n",
      "Iteration = 1000 - Best solution = [8.69753483e+00 2.89592426e-03 1.53961596e+00 1.68976531e+01\n",
      " 3.93304396e+00] - Best cost = 0.0012220582548506825\n",
      "Simulation 2 ---------------------------------\n",
      "Iteration = 1 - Best solution = [ 18.21075119  42.55872948 206.15187563 165.98929965  29.79392101] - Best cost = 0.555187020132857\n",
      "Iteration = 50 - Best solution = [6.78543301e+00 3.39238682e-01 6.81645964e+01 7.20527750e+02\n",
      " 1.33040199e+02] - Best cost = 0.006134867521104008\n",
      "Iteration = 100 - Best solution = [8.67573076e+00 4.81851131e-02 6.44970812e+01 7.53777871e+02\n",
      " 1.32566000e+02] - Best cost = 0.0018788910435265575\n",
      "Iteration = 150 - Best solution = [8.71498480e+00 4.02796591e-02 5.41034698e+01 6.31604593e+02\n",
      " 1.10852479e+02] - Best cost = 0.0018738906036125523\n",
      "Iteration = 200 - Best solution = [8.96637800e+00 5.76796120e-03 5.07490472e+00 5.68371758e+01\n",
      " 7.64341091e+00] - Best cost = 0.0016620417114998245\n",
      "Iteration = 250 - Best solution = [8.79372908e+00 2.88091473e-03 1.37687973e+00 1.54844272e+01\n",
      " 3.47139634e+00] - Best cost = 0.0012738934680526545\n",
      "Iteration = 300 - Best solution = [8.69588244e+00 3.27039899e-03 1.57106261e+00 1.71505189e+01\n",
      " 3.99715750e+00] - Best cost = 0.001222208578122918\n",
      "Iteration = 350 - Best solution = [8.69745835e+00 2.91043123e-03 1.54110931e+00 1.69078048e+01\n",
      " 3.93634214e+00] - Best cost = 0.0012220587963756773\n",
      "Iteration = 400 - Best solution = [8.69746099e+00 2.89922031e-03 1.53977159e+00 1.68995738e+01\n",
      " 3.93367077e+00] - Best cost = 0.0012220582819013938\n",
      "Iteration = 450 - Best solution = [8.69753979e+00 2.89563342e-03 1.53959167e+00 1.68974320e+01\n",
      " 3.93295718e+00] - Best cost = 0.0012220582549688722\n",
      "Iteration = 500 - Best solution = [8.69753615e+00 2.89583728e-03 1.53960972e+00 1.68976008e+01\n",
      " 3.93301876e+00] - Best cost = 0.0012220582548622878\n",
      "Iteration = 550 - Best solution = [8.69753483e+00 2.89591830e-03 1.53961472e+00 1.68976414e+01\n",
      " 3.93304195e+00] - Best cost = 0.001222058254850869\n",
      "Iteration = 600 - Best solution = [8.69753481e+00 2.89592064e-03 1.53961499e+00 1.68976439e+01\n",
      " 3.93304240e+00] - Best cost = 0.0012220582548507083\n",
      "Iteration = 650 - Best solution = [8.69753481e+00 2.89592041e-03 1.53961499e+00 1.68976439e+01\n",
      " 3.93304240e+00] - Best cost = 0.0012220582548507005\n",
      "Iteration = 700 - Best solution = [8.69753481e+00 2.89592034e-03 1.53961499e+00 1.68976439e+01\n",
      " 3.93304240e+00] - Best cost = 0.001222058254850692\n",
      "Iteration = 750 - Best solution = [8.69753481e+00 2.89592031e-03 1.53961499e+00 1.68976439e+01\n",
      " 3.93304240e+00] - Best cost = 0.0012220582548506794\n",
      "Iteration = 800 - Best solution = [8.69753481e+00 2.89592031e-03 1.53961499e+00 1.68976439e+01\n",
      " 3.93304240e+00] - Best cost = 0.0012220582548506794\n",
      "Iteration = 850 - Best solution = [8.69753481e+00 2.89592031e-03 1.53961499e+00 1.68976439e+01\n",
      " 3.93304240e+00] - Best cost = 0.0012220582548506682\n",
      "Iteration = 900 - Best solution = [8.69753481e+00 2.89592031e-03 1.53961499e+00 1.68976439e+01\n",
      " 3.93304240e+00] - Best cost = 0.0012220582548506682\n",
      "Iteration = 950 - Best solution = [8.69753481e+00 2.89592031e-03 1.53961499e+00 1.68976439e+01\n",
      " 3.93304240e+00] - Best cost = 0.0012220582548506682\n",
      "Iteration = 1000 - Best solution = [8.69753481e+00 2.89592031e-03 1.53961499e+00 1.68976439e+01\n",
      " 3.93304240e+00] - Best cost = 0.0012220582548506682\n",
      "Simulation 3 ---------------------------------\n",
      "Iteration = 1 - Best solution = [ 50.16398349  39.3763923  195.15196751 160.7768604  -35.55123097] - Best cost = 0.42089566934559486\n",
      "Iteration = 50 - Best solution = [9.80162970e+00 1.87796300e-02 3.00342214e+02 3.48287071e+03\n",
      " 5.14968267e+01] - Best cost = 0.004931951464561021\n",
      "Iteration = 100 - Best solution = [7.89714578e+00 1.61906732e-01 2.98890453e+02 3.51095163e+03\n",
      " 6.14487445e+02] - Best cost = 0.0019042281826260389\n",
      "Iteration = 150 - Best solution = [7.49713177e+00 2.27565124e-01 2.97365212e+02 3.48501086e+03\n",
      " 6.29477735e+02] - Best cost = 0.0018975211537073655\n",
      "Iteration = 200 - Best solution = [7.48492363e+00 2.29703473e-01 2.96629449e+02 3.47626539e+03\n",
      " 6.28584962e+02] - Best cost = 0.0018975039368395348\n",
      "Iteration = 250 - Best solution = [7.49075557e+00 2.29086405e-01 2.95821872e+02 3.46672059e+03\n",
      " 6.27097538e+02] - Best cost = 0.0018974894899914344\n",
      "Iteration = 300 - Best solution = [7.53099142e+00 2.22667319e-01 2.89358901e+02 3.39148980e+03\n",
      " 6.13724500e+02] - Best cost = 0.0018973809047129924\n",
      "Iteration = 350 - Best solution = [7.80754305e+00 1.81103755e-01 2.26105376e+02 2.65020360e+03\n",
      " 4.81508056e+02] - Best cost = 0.0018962736822135226\n",
      "Iteration = 400 - Best solution = [8.87870430e+00 2.95679637e-03 1.50904498e+01 1.75462218e+02\n",
      " 3.08547033e+01] - Best cost = 0.0018205207397808758\n",
      "Iteration = 450 - Best solution = [8.85387585e+00 9.43685444e-03 2.63414195e+00 2.74982323e+01\n",
      " 4.65233925e+00] - Best cost = 0.0014143230342037938\n",
      "Iteration = 500 - Best solution = [8.74179920e+00 6.29419419e-03 1.63134007e+00 1.74401958e+01\n",
      " 4.00743533e+00] - Best cost = 0.001247492749264133\n",
      "Iteration = 550 - Best solution = [8.70242237e+00 2.53499913e-03 1.53313071e+00 1.68636069e+01\n",
      " 3.87702629e+00] - Best cost = 0.0012221940450525513\n",
      "Iteration = 600 - Best solution = [8.69776795e+00 2.86355345e-03 1.53109815e+00 1.68170519e+01\n",
      " 3.91504836e+00] - Best cost = 0.0012220631006749224\n",
      "Iteration = 650 - Best solution = [8.69750492e+00 2.89882375e-03 1.54002675e+00 1.69023895e+01\n",
      " 3.93452384e+00] - Best cost = 0.0012220583000754994\n",
      "Iteration = 700 - Best solution = [8.69751592e+00 2.89782016e-03 1.53982104e+00 1.68996381e+01\n",
      " 3.93357497e+00] - Best cost = 0.0012220582588886016\n",
      "Iteration = 750 - Best solution = [8.69753261e+00 2.89595307e-03 1.53962988e+00 1.68977826e+01\n",
      " 3.93308602e+00] - Best cost = 0.0012220582548794906\n",
      "Iteration = 800 - Best solution = [8.69753458e+00 2.89594682e-03 1.53961735e+00 1.68976657e+01\n",
      " 3.93304826e+00] - Best cost = 0.0012220582548511342\n",
      "Iteration = 850 - Best solution = [8.69753468e+00 2.89592732e-03 1.53961613e+00 1.68976547e+01\n",
      " 3.93304596e+00] - Best cost = 0.0012220582548507605\n",
      "Iteration = 900 - Best solution = [8.69753468e+00 2.89592732e-03 1.53961613e+00 1.68976547e+01\n",
      " 3.93304596e+00] - Best cost = 0.0012220582548507605\n",
      "Iteration = 950 - Best solution = [8.69753474e+00 2.89592469e-03 1.53961613e+00 1.68976543e+01\n",
      " 3.93304511e+00] - Best cost = 0.0012220582548506864\n",
      "Iteration = 1000 - Best solution = [8.69753474e+00 2.89592469e-03 1.53961613e+00 1.68976543e+01\n",
      " 3.93304511e+00] - Best cost = 0.0012220582548506864\n",
      "Simulation 4 ---------------------------------\n",
      "Iteration = 1 - Best solution = [ 92.70141169  41.44927678  97.97042365  91.65049399 -23.16635226] - Best cost = 0.4442264411665193\n",
      "Iteration = 50 - Best solution = [5.65355445e+00 4.78890164e-01 1.00912750e+02 1.15366538e+03\n",
      " 1.57065961e+00] - Best cost = 0.011877584141446147\n",
      "Iteration = 100 - Best solution = [8.43193858e+00 8.19683112e-02 9.97823047e+01 1.16861638e+03\n",
      " 2.10696507e+02] - Best cost = 0.0018889906160271886\n",
      "Iteration = 150 - Best solution = [8.52934229e+00 7.00404740e-02 9.76963276e+01 1.14394361e+03\n",
      " 2.04066899e+02] - Best cost = 0.00188707686931081\n",
      "Iteration = 200 - Best solution = [8.54408602e+00 6.64733833e-02 9.02320255e+01 1.05552781e+03\n",
      " 1.88796314e+02] - Best cost = 0.0018856796292393138\n",
      "Iteration = 250 - Best solution = [8.73578378e+00 4.07503659e-02 4.41696033e+01 5.14195632e+02\n",
      " 9.08114198e+01] - Best cost = 0.0018717644332710134\n",
      "Iteration = 300 - Best solution = [8.89422743e+00 8.92072277e-03 3.45927220e+00 3.66567697e+01\n",
      " 6.53590892e+00] - Best cost = 0.0015118705127699949\n",
      "Iteration = 350 - Best solution = [8.74627354e+00 3.76038684e-03 2.22561992e+00 2.36434725e+01\n",
      " 4.89033719e+00] - Best cost = 0.0012579133744470734\n",
      "Iteration = 400 - Best solution = [8.70136937e+00 2.73242820e-03 1.50329999e+00 1.65599009e+01\n",
      " 3.86304263e+00] - Best cost = 0.0012222237412078576\n",
      "Iteration = 450 - Best solution = [8.69798661e+00 2.85585619e-03 1.53997902e+00 1.69107091e+01\n",
      " 3.93472574e+00] - Best cost = 0.0012220618454950197\n",
      "Iteration = 500 - Best solution = [8.69755394e+00 2.90048687e-03 1.54005434e+00 1.69018489e+01\n",
      " 3.93387969e+00] - Best cost = 0.0012220582832252152\n",
      "Iteration = 550 - Best solution = [8.69753832e+00 2.89620063e-03 1.53965723e+00 1.68981012e+01\n",
      " 3.93304906e+00] - Best cost = 0.0012220582554219347\n",
      "Iteration = 600 - Best solution = [8.69753533e+00 2.89588509e-03 1.53960518e+00 1.68975508e+01\n",
      " 3.93301563e+00] - Best cost = 0.001222058254860148\n",
      "Iteration = 650 - Best solution = [8.69753527e+00 2.89593036e-03 1.53960977e+00 1.68975929e+01\n",
      " 3.93302811e+00] - Best cost = 0.0012220582548544807\n",
      "Iteration = 700 - Best solution = [8.69753483e+00 2.89592295e-03 1.53961412e+00 1.68976341e+01\n",
      " 3.93304049e+00] - Best cost = 0.0012220582548509284\n",
      "Iteration = 750 - Best solution = [8.69753479e+00 2.89592329e-03 1.53961483e+00 1.68976417e+01\n",
      " 3.93304244e+00] - Best cost = 0.001222058254850763\n",
      "Iteration = 800 - Best solution = [8.69753478e+00 2.89592536e-03 1.53961485e+00 1.68976414e+01\n",
      " 3.93304248e+00] - Best cost = 0.0012220582548507206\n",
      "Iteration = 850 - Best solution = [8.69753478e+00 2.89592536e-03 1.53961485e+00 1.68976414e+01\n",
      " 3.93304248e+00] - Best cost = 0.0012220582548507159\n",
      "Iteration = 900 - Best solution = [8.69753478e+00 2.89592530e-03 1.53961485e+00 1.68976414e+01\n",
      " 3.93304248e+00] - Best cost = 0.0012220582548507053\n",
      "Iteration = 950 - Best solution = [8.69753478e+00 2.89592530e-03 1.53961485e+00 1.68976414e+01\n",
      " 3.93304248e+00] - Best cost = 0.0012220582548507053\n",
      "Iteration = 1000 - Best solution = [8.69753478e+00 2.89592434e-03 1.53961485e+00 1.68976418e+01\n",
      " 3.93304246e+00] - Best cost = 0.0012220582548506985\n"
     ]
    }
   ],
   "source": [
    "# parameter range setup\n",
    "r_kp = [1, 100]\n",
    "r_ki = [-50, 50]\n",
    "r_kd = [-100, 500]\n",
    "r_kps = [50, 150]\n",
    "r_kds = [-50, 100]\n",
    "par_range = [r_kp, r_ki, r_kd, r_kps, r_kds]\n",
    "\n",
    "# fpa parameter\n",
    "# Define a switch probability p ∈ [0, 1]\n",
    "p = 0.5 #switch probability\n",
    "\n",
    "# n_pop = int(input('Population count = '))\n",
    "# n_sim = int(input('Simulation count = '))\n",
    "# iter = int(input('Iteration count = '))\n",
    "\n",
    "n_pop = 20\n",
    "n_sim = 5\n",
    "iter = 1000\n",
    "\n",
    "best_g_star_history2 = np.zeros([n_sim,np.shape(par_range)[0]])\n",
    "best_cost_history2 = np.zeros([n_sim,1])\n",
    "\n",
    "for sim in range(n_sim):\n",
    "  print(f'Simulation {sim} ---------------------------------')\n",
    "  # Initialize a population of n flowers/pollen gametes with random solutions\n",
    "  while(True):\n",
    "    count=0\n",
    "    flowers,flowers_cost = generate_population(n_pop, np.shape(par_range)[0], par_range)\n",
    "    for i in range(n_pop):\n",
    "      if closed_loop(flowers[i],tf_sys,t_sim)==False:\n",
    "        count+=1\n",
    "    if count <= n_pop/2:\n",
    "      break\n",
    "  \n",
    "  next_flowers = np.copy(flowers)\n",
    "\n",
    "  # Find the best solution g∗ in the initial population\n",
    "  for i in range(n_pop):\n",
    "    cl_sim = closed_loop(flowers[i],tf_sys,t_sim)\n",
    "    if cl_sim == False:\n",
    "      flowers_cost[i] = np.Inf\n",
    "    else:\n",
    "      [yp,ys] = cl_sim\n",
    "      flowers_cost[i] = cost_func(x_ref,yp,ys,t_sim)\n",
    "  g_star_idx = np.argmin(flowers_cost)\n",
    "  g_star = flowers[g_star_idx]\n",
    "\n",
    "  next_flowers_cost = np.copy(flowers_cost)\n",
    "\n",
    "  # FPA\n",
    "  for i in range(iter):\n",
    "    for j in range(n_pop):\n",
    "      if np.random.random() < p:\n",
    "        # Draw a (d-dimensional) step vector L which obeys a L´evy distribution\n",
    "        L = Levy(np.shape(par_range)[0])\n",
    "        # Global pollination\n",
    "        temp=flowers[j]+L*(g_star-flowers[j])\n",
    "      else:\n",
    "        # Draw ∈ from a uniform distribution in [0,1]\n",
    "        eps = np.random.uniform(0,1)\n",
    "        # Randomly choose j2 and k2 among all the solutions\n",
    "        while(True):\n",
    "          j2, k2 = np.random.randint(0, n_pop, 2)\n",
    "          if j2==k2 or j2==j or k2==j:\n",
    "            continue\n",
    "          break\n",
    "        # Local pollination\n",
    "        temp=flowers[j]+eps*(flowers[j2]-flowers[k2])\n",
    "      # Evaluate new solutions\n",
    "      cl_sim = closed_loop(temp,tf_sys,t_sim)\n",
    "      if cl_sim == False:\n",
    "        temp_cost = np.Inf\n",
    "      else:\n",
    "        [yp,ys] = cl_sim\n",
    "        temp_cost = cost_func(x_ref,yp,ys,t)\n",
    "      if temp_cost < flowers_cost[j]:\n",
    "        next_flowers[j]=temp\n",
    "        next_flowers_cost[j]=temp_cost\n",
    "\n",
    "    flowers = np.copy(next_flowers)\n",
    "    flowers_cost = np.copy(next_flowers_cost)\n",
    "\n",
    "    # Find the current best solution g∗\n",
    "    \n",
    "    g_star_idx = np.argmin(flowers_cost)\n",
    "    g_star = flowers[g_star_idx]\n",
    "    g_star_cost = np.min(flowers_cost)\n",
    "\n",
    "    if (i+1)%50==0 or i==0:\n",
    "      print(f'Iteration = {i+1} - Best solution = {g_star} - Best cost = {np.min(flowers_cost)}')\n",
    "  best_g_star_history2[sim] = g_star\n",
    "  best_cost_history2[sim] = g_star_cost"
   ]
  },
  {
   "cell_type": "code",
   "execution_count": 9,
   "metadata": {
    "colab": {
     "base_uri": "https://localhost:8080/"
    },
    "id": "zsL4t6MWK2Xq",
    "outputId": "591108a0-d33b-4d8f-dbee-e391148855fc"
   },
   "outputs": [
    {
     "name": "stdout",
     "output_type": "stream",
     "text": [
      "Simulation 0 ---------------------------------\n",
      "Iteration = 1 - Best solution = [ 41.71144613   4.17543083  67.17036126 179.66744116  12.15794374] - Best cost = 0.3737766818016219\n",
      "Iteration = 50 - Best solution = [6.61450940e+00 4.04718692e-01 2.41986123e+02 2.80795992e+03\n",
      " 5.14812850e+02] - Best cost = 0.001993468039088241\n",
      "Iteration = 100 - Best solution = [7.67343053e+00 2.02544682e-01 2.67399759e+02 3.13571239e+03\n",
      " 5.63744815e+02] - Best cost = 0.0018972204992405638\n",
      "Iteration = 150 - Best solution = [8.10851856e+00 1.33665343e-01 1.67330471e+02 1.95660922e+03\n",
      " 3.54520283e+02] - Best cost = 0.0018946846881378156\n",
      "Iteration = 200 - Best solution = [8.94990542e+00 6.72706159e-03 2.01368264e+00 2.07640717e+01\n",
      " 2.48861670e+00] - Best cost = 0.0015390635648754034\n",
      "Iteration = 250 - Best solution = [8.82698656e+00 6.09838519e-03 2.42597071e+00 2.53905366e+01\n",
      " 3.49487478e+00] - Best cost = 0.0014133069646885153\n",
      "Iteration = 300 - Best solution = [8.76570161e+00 4.35413897e-03 1.67622839e+00 1.83644419e+01\n",
      " 3.86883928e+00] - Best cost = 0.001247550571486111\n",
      "Iteration = 350 - Best solution = [8.69860402e+00 4.43271885e-03 1.54381038e+00 1.67855527e+01\n",
      " 3.94135865e+00] - Best cost = 0.0012241182435161963\n",
      "Iteration = 400 - Best solution = [8.69651239e+00 3.00836159e-03 1.55037772e+00 1.70079519e+01\n",
      " 3.96572128e+00] - Best cost = 0.0012220742870505629\n",
      "Iteration = 450 - Best solution = [8.69729067e+00 2.93507691e-03 1.54911425e+00 1.69897783e+01\n",
      " 3.95406244e+00] - Best cost = 0.0012220642747242966\n",
      "Iteration = 500 - Best solution = [8.69720254e+00 2.93391609e-03 1.54452218e+00 1.69446379e+01\n",
      " 3.94627749e+00] - Best cost = 0.0012220603787667422\n",
      "Simulation 1 ---------------------------------\n",
      "Iteration = 1 - Best solution = [-39.57318454 -18.85694091  25.978357   156.8193298  -48.76739442] - Best cost = inf\n",
      "Iteration = 50 - Best solution = [5.35227796e+00 6.27494454e-01 1.20283659e+02 1.30846511e+03\n",
      " 2.89297259e+02] - Best cost = 0.004464520936504332\n",
      "Iteration = 100 - Best solution = [7.60730852e+00 1.99096877e-01 1.16890369e+02 1.35364566e+03\n",
      " 2.96711547e+02] - Best cost = 0.0021236221973937024\n",
      "Iteration = 150 - Best solution = [8.41494272e+00 8.71844381e-02 1.15592930e+02 1.35328013e+03\n",
      " 2.42716681e+02] - Best cost = 0.0018893468084719971\n",
      "Iteration = 200 - Best solution = [8.41421736e+00 8.74352820e-02 1.15576604e+02 1.35301367e+03\n",
      " 2.42726511e+02] - Best cost = 0.0018893433756641488\n",
      "Iteration = 250 - Best solution = [8.43099895e+00 8.47614508e-02 1.13565271e+02 1.32938211e+03\n",
      " 2.38679809e+02] - Best cost = 0.0018891352735090918\n",
      "Iteration = 300 - Best solution = [8.47618673e+00 7.73541906e-02 1.06453162e+02 1.24674906e+03\n",
      " 2.23299006e+02] - Best cost = 0.0018883116381863347\n",
      "Iteration = 350 - Best solution = [8.84278248e+00 2.34117947e-02 4.62418641e+01 5.40731203e+02\n",
      " 9.11864803e+01] - Best cost = 0.0018777008066758357\n",
      "Iteration = 400 - Best solution = [8.95796870e+00 3.50811319e-03 5.37358939e+00 6.07332579e+01\n",
      " 8.63701751e+00] - Best cost = 0.001640806764542663\n",
      "Iteration = 450 - Best solution = [8.86500917e+00 6.59673456e-03 1.60475467e+00 1.68330102e+01\n",
      " 3.11296271e+00] - Best cost = 0.0013682044832646148\n",
      "Iteration = 500 - Best solution = [8.69709513e+00 2.74315091e-03 1.75652497e+00 1.90183391e+01\n",
      " 4.37328003e+00] - Best cost = 0.0012254156993861507\n",
      "Simulation 2 ---------------------------------\n",
      "Iteration = 1 - Best solution = [ 60.33268662  31.06258844  29.07367649 131.6717493   29.13870761] - Best cost = 1.1173237717852242\n",
      "Iteration = 50 - Best solution = [7.22347019e+00 4.37129228e-01 1.80559631e+02 1.99886385e+03\n",
      " 1.34232466e+02] - Best cost = 0.004833219013506766\n",
      "Iteration = 100 - Best solution = [7.80351067e+00 1.81446384e-01 2.27515696e+02 2.65621988e+03\n",
      " 4.89086998e+02] - Best cost = 0.0019021096097836018\n",
      "Iteration = 150 - Best solution = [7.88817962e+00 1.68871719e-01 2.06247192e+02 2.41431627e+03\n",
      " 4.37446084e+02] - Best cost = 0.0018955970703709712\n",
      "Iteration = 200 - Best solution = [8.39058222e+00 9.25607077e-02 1.10390846e+02 1.29024185e+03\n",
      " 2.36103502e+02] - Best cost = 0.0018907892148924302\n",
      "Iteration = 250 - Best solution = [8.92430030e+00 1.03153543e-02 1.19917919e+01 1.34797525e+02\n",
      " 2.13562813e+01] - Best cost = 0.0018132575554623824\n",
      "Iteration = 300 - Best solution = [8.92110221e+00 7.10371013e-03 2.59656450e+00 2.80561641e+01\n",
      " 3.92702703e+00] - Best cost = 0.0014855164364606954\n",
      "Iteration = 350 - Best solution = [8.75148902e+00 7.53364083e-04 1.42764313e+00 1.61151473e+01\n",
      " 3.17930584e+00] - Best cost = 0.001236738822156461\n",
      "Iteration = 400 - Best solution = [8.70678985e+00 1.99675538e-03 1.46232143e+00 1.61439939e+01\n",
      " 3.72938940e+00] - Best cost = 0.0012228299905983715\n",
      "Iteration = 450 - Best solution = [8.70048064e+00 2.69414219e-03 1.51495649e+00 1.67206787e+01\n",
      " 3.85689599e+00] - Best cost = 0.0012222021302038127\n",
      "Iteration = 500 - Best solution = [8.69844279e+00 2.83840280e-03 1.53521038e+00 1.68603097e+01\n",
      " 3.91933245e+00] - Best cost = 0.0012220622862111927\n",
      "Simulation 3 ---------------------------------\n",
      "Iteration = 1 - Best solution = [ 50.32788418  10.79843088  75.72832362 124.83234563 -14.50080602] - Best cost = 0.38211155274489844\n",
      "Iteration = 50 - Best solution = [ 8.92998187e+00  6.00373976e-02  3.20999794e+01  3.40551683e+02\n",
      " -4.04250136e+00] - Best cost = 0.007093614069899721\n",
      "Iteration = 100 - Best solution = [8.82851205e+00 2.11908538e-02 2.99759178e+01 3.48999631e+02\n",
      " 6.06405514e+01] - Best cost = 0.0018474644575719975\n",
      "Iteration = 150 - Best solution = [8.83987343e+00 1.97528034e-02 2.92871606e+01 3.41066889e+02\n",
      " 5.92686407e+01] - Best cost = 0.0018462747075388497\n",
      "Iteration = 200 - Best solution = [8.91267090e+00 3.17938780e-03 1.30665546e+01 1.51285930e+02\n",
      " 2.39643123e+01] - Best cost = 0.0017819365250878786\n",
      "Iteration = 250 - Best solution = [8.89104155e+00 4.43420518e-03 2.26706035e+00 2.42376591e+01\n",
      " 3.78399548e+00] - Best cost = 0.001394287268727125\n",
      "Iteration = 300 - Best solution = [8.71021447e+00 2.60000114e-03 1.60067786e+00 1.75284797e+01\n",
      " 3.90111203e+00] - Best cost = 0.0012234233163344941\n",
      "Iteration = 350 - Best solution = [8.69877030e+00 2.82768354e-03 1.54252796e+00 1.69383576e+01\n",
      " 3.93437464e+00] - Best cost = 0.0012220685373014587\n",
      "Iteration = 400 - Best solution = [8.69757318e+00 2.89363149e-03 1.53951562e+00 1.68968020e+01\n",
      " 3.93257138e+00] - Best cost = 0.0012220582608578443\n",
      "Iteration = 450 - Best solution = [8.69754370e+00 2.89527543e-03 1.53951381e+00 1.68966583e+01\n",
      " 3.93277981e+00] - Best cost = 0.0012220582557000222\n",
      "Iteration = 500 - Best solution = [8.69753324e+00 2.89596481e-03 1.53960934e+00 1.68976062e+01\n",
      " 3.93304455e+00] - Best cost = 0.001222058254873344\n",
      "Simulation 4 ---------------------------------\n",
      "Iteration = 1 - Best solution = [177.48266505  24.17097857  73.23686472  60.36378929  -4.28346991] - Best cost = 0.5037007029238968\n",
      "Iteration = 50 - Best solution = [9.26228910e+00 4.72238785e-02 7.54820957e+01 8.48446957e+02\n",
      " 4.53453262e+01] - Best cost = 0.0041083706849886475\n",
      "Iteration = 100 - Best solution = [8.67756439e+00 4.62600612e-02 6.83352844e+01 7.99453070e+02\n",
      " 1.41726895e+02] - Best cost = 0.0018801918845788956\n",
      "Iteration = 150 - Best solution = [8.72514773e+00 4.16779361e-02 6.35563964e+01 7.42590993e+02\n",
      " 1.30694757e+02] - Best cost = 0.0018798449104104682\n",
      "Iteration = 200 - Best solution = [8.93991659e+00 1.70016974e-02 1.99038803e+01 2.29156880e+02\n",
      " 3.78346546e+01] - Best cost = 0.0018556780873134383\n",
      "Iteration = 250 - Best solution = [9.03516529e+00 4.92739860e-03 4.94681682e+00 5.41757411e+01\n",
      " 6.94609255e+00] - Best cost = 0.0017459779116186331\n",
      "Iteration = 300 - Best solution = [8.72781123e+00 2.92142921e-03 1.78846027e+00 1.88588615e+01\n",
      " 3.80179452e+00] - Best cost = 0.0012466628488392755\n",
      "Iteration = 350 - Best solution = [8.69498583e+00 3.98085273e-03 1.66937582e+00 1.81120841e+01\n",
      " 4.21218795e+00] - Best cost = 0.0012234717527793368\n",
      "Iteration = 400 - Best solution = [8.69874095e+00 2.80709657e-03 1.53163371e+00 1.68290850e+01\n",
      " 3.90818536e+00] - Best cost = 0.0012220679564971262\n",
      "Iteration = 450 - Best solution = [8.69815600e+00 2.88772982e-03 1.54380030e+00 1.69402528e+01\n",
      " 3.93744404e+00] - Best cost = 0.0012220612566387094\n",
      "Iteration = 500 - Best solution = [8.69757049e+00 2.89259156e-03 1.53870301e+00 1.68885701e+01\n",
      " 3.93100695e+00] - Best cost = 0.001222058312068044\n",
      "time: 15min 23s (started: 2021-04-19 05:15:07 +07:00)\n"
     ]
    }
   ],
   "source": [
    "# parameter range setup\n",
    "r_kp = [-50, 200]\n",
    "r_ki = [-50, 50]\n",
    "r_kd = [-50, 100]\n",
    "r_kps = [-50, 200]\n",
    "r_kds = [-50, 100]\n",
    "par_range = [r_kp, r_ki, r_kd, r_kps, r_kds]\n",
    "\n",
    "# fpa parameter\n",
    "# Define a switch probability p ∈ [0, 1]\n",
    "p = 0.5 #switch probability\n",
    "\n",
    "# n_pop = int(input('Population count = '))\n",
    "# n_sim = int(input('Simulation count = '))\n",
    "# iter = int(input('Iteration count = '))\n",
    "\n",
    "n_pop = 20\n",
    "n_sim = 5\n",
    "iter = 500\n",
    "\n",
    "best_g_star_history3 = np.zeros([n_sim,np.shape(par_range)[0]])\n",
    "best_cost_history3 = np.zeros([n_sim,1])\n",
    "\n",
    "for sim in range(n_sim):\n",
    "  print(f'Simulation {sim} ---------------------------------')\n",
    "  # Initialize a population of n flowers/pollen gametes with random solutions\n",
    "  flowers,flowers_cost = generate_population(n_pop, np.shape(par_range)[0], par_range)\n",
    "  # while(True):\n",
    "  #   count=0\n",
    "  #   flowers,flowers_cost = generate_population(n_pop, np.shape(par_range)[0], par_range)\n",
    "  #   for i in range(n_pop):\n",
    "  #     if closed_loop(flowers[i],tf_sys,t_sim)==False:\n",
    "  #       count+=1\n",
    "  #   print(f'Stable count = {n_pop-count}')\n",
    "  #   if count <= n_pop/2:\n",
    "  #     break\n",
    "  \n",
    "  next_flowers = np.copy(flowers)\n",
    "\n",
    "  # Find the best solution g∗ in the initial population\n",
    "  for i in range(n_pop):\n",
    "    cl_sim = closed_loop(flowers[i],tf_sys,t_sim)\n",
    "    if cl_sim == False:\n",
    "      flowers_cost[i] = np.Inf\n",
    "    else:\n",
    "      [yp,ys] = cl_sim\n",
    "      flowers_cost[i] = cost_func(x_ref,yp,ys,t_sim)\n",
    "  g_star_idx = np.argmin(flowers_cost)\n",
    "  g_star = flowers[g_star_idx]\n",
    "\n",
    "  next_flowers_cost = np.copy(flowers_cost)\n",
    "\n",
    "  # FPA\n",
    "  for i in range(iter):\n",
    "    for j in range(n_pop):\n",
    "      if np.random.random() < p:\n",
    "        # Draw a (d-dimensional) step vector L which obeys a L´evy distribution\n",
    "        L = Levy(np.shape(par_range)[0])\n",
    "        # Global pollination\n",
    "        temp=flowers[j]+L*(g_star-flowers[j])\n",
    "      else:\n",
    "        # Draw ∈ from a uniform distribution in [0,1]\n",
    "        eps = np.random.uniform(0,1)\n",
    "        # Randomly choose j2 and k2 among all the solutions\n",
    "        while(True):\n",
    "          j2, k2 = np.random.randint(0, n_pop, 2)\n",
    "          if j2==k2 or j2==j or k2==j:\n",
    "            continue\n",
    "          break\n",
    "        # Local pollination\n",
    "        temp=flowers[j]+eps*(flowers[j2]-flowers[k2])\n",
    "      # Evaluate new solutions\n",
    "      cl_sim = closed_loop(temp,tf_sys,t_sim)\n",
    "      if cl_sim == False:\n",
    "        temp_cost = np.Inf\n",
    "      else:\n",
    "        [yp,ys] = cl_sim\n",
    "        temp_cost = cost_func(x_ref,yp,ys,t)\n",
    "      if temp_cost < flowers_cost[j]:\n",
    "        next_flowers[j]=temp\n",
    "        next_flowers_cost[j]=temp_cost\n",
    "\n",
    "    flowers = np.copy(next_flowers)\n",
    "    flowers_cost = np.copy(next_flowers_cost)\n",
    "\n",
    "    # Find the current best solution g∗\n",
    "    \n",
    "    g_star_idx = np.argmin(flowers_cost)\n",
    "    g_star = flowers[g_star_idx]\n",
    "    g_star_cost = np.min(flowers_cost)\n",
    "\n",
    "    if (i+1)%50==0 or i==0:\n",
    "      print(f'Iteration = {i+1} - Best solution = {g_star} - Best cost = {np.min(flowers_cost)}')\n",
    "  best_g_star_history3[sim] = g_star\n",
    "  best_cost_history3[sim] = g_star_cost"
   ]
  },
  {
   "cell_type": "code",
   "execution_count": null,
   "metadata": {
    "colab": {
     "base_uri": "https://localhost:8080/"
    },
    "id": "_PYlDjdXlw6Q",
    "outputId": "0cfaf2fd-4b47-41b4-f3d8-e0eb4d78cf12"
   },
   "outputs": [
    {
     "data": {
      "text/plain": [
       "array([[8.69758115e+00, 2.89069672e-03, 1.54176825e+00, 1.69188668e+01,\n",
       "        3.93453515e+00],\n",
       "       [8.69779800e+00, 2.89015043e-03, 1.53692137e+00, 1.68651561e+01,\n",
       "        3.92491384e+00],\n",
       "       [8.69758457e+00, 2.89451170e-03, 1.53907272e+00, 1.68922078e+01,\n",
       "        3.93163845e+00],\n",
       "       [8.69754290e+00, 2.91972901e-03, 1.54688173e+00, 1.69645131e+01,\n",
       "        3.94769269e+00],\n",
       "       [8.69759147e+00, 2.89549477e-03, 1.53954615e+00, 1.68969241e+01,\n",
       "        3.93238746e+00]])"
      ]
     },
     "execution_count": 9,
     "metadata": {
      "tags": []
     },
     "output_type": "execute_result"
    }
   ],
   "source": [
    "best_g_star_history3"
   ]
  },
  {
   "cell_type": "code",
   "execution_count": null,
   "metadata": {
    "colab": {
     "base_uri": "https://localhost:8080/"
    },
    "id": "IVsTsJAgl4hP",
    "outputId": "5c783c3f-a2d2-40cd-dd31-c5094659729e"
   },
   "outputs": [
    {
     "data": {
      "text/plain": [
       "array([[0.00122206],\n",
       "       [0.00122206],\n",
       "       [0.00122206],\n",
       "       [0.00122206],\n",
       "       [0.00122206]])"
      ]
     },
     "execution_count": 10,
     "metadata": {
      "tags": []
     },
     "output_type": "execute_result"
    }
   ],
   "source": [
    "best_cost_history3\n",
    "0.0012220591531716394\n",
    "0.001222059897081854\n",
    "0.0012220582808488104\n",
    "0.0012220621333883547\n",
    "0.001222058269043403"
   ]
  },
  {
   "cell_type": "code",
   "execution_count": null,
   "metadata": {
    "colab": {
     "base_uri": "https://localhost:8080/"
    },
    "id": "9sjJO6RZLMUu",
    "outputId": "17768c2b-5a6f-4606-e13f-1c782db6e4c1"
   },
   "outputs": [
    {
     "name": "stdout",
     "output_type": "stream",
     "text": [
      "temp 0 = [49.27522469  4.25922612 26.26461179 29.88607667 -3.30521853]\n",
      "cost 0 = 0.09867750013260088\n"
     ]
    }
   ],
   "source": [
    "j=0\n",
    "if np.random.uniform(0,1) < p:\n",
    "  # Draw a (d-dimensional) step vector L which obeys a L´evy distribution\n",
    "  L = Levy(np.shape(par_range)[0])\n",
    "  # Global pollination\n",
    "  temp=flowers[j]+L*(g_star-flowers[j])\n",
    "else:\n",
    "  # Draw ∈ from a uniform distribution in [0,1]\n",
    "  eps = np.random.uniform(0.,1.)\n",
    "  # Randomly choose j2 and k2 among all the solutions\n",
    "  while(True):\n",
    "    j2, k2 = np.random.randint(0, n_pop, 2)\n",
    "    if j2==k2 or j2==j or k2==j:\n",
    "      continue\n",
    "    break\n",
    "  # Local pollination\n",
    "  temp=flowers[j]+eps*(flowers[j2]-flowers[k2])\n",
    "print(f'temp {j} = {temp}')\n",
    "# Evaluate new solutions\n",
    "cl_sim = closed_loop(temp,tf_sys,t_sim)\n",
    "if cl_sim == False:\n",
    "  temp_cost = np.Inf\n",
    "else:\n",
    "  [yp,ys] = cl_sim\n",
    "  temp_cost = cost_ref1(x_ref,yp,ys,t)\n",
    "print(f'cost {j} = {temp_cost}')\n",
    "if temp_cost < flowers_cost[j]:\n",
    "  next_flowers[j]=temp\n",
    "  next_flowers_cost[j]=temp_cost"
   ]
  },
  {
   "cell_type": "code",
   "execution_count": null,
   "metadata": {
    "colab": {
     "base_uri": "https://localhost:8080/"
    },
    "id": "Nxknq2N64YQ-",
    "outputId": "9649943e-8b57-4938-94c7-c5064cc3c308"
   },
   "outputs": [
    {
     "data": {
      "text/plain": [
       "array([ 1.7429177 ,  0.98780401,  0.42764466,  0.24440976, 15.12065759])"
      ]
     },
     "execution_count": 126,
     "metadata": {
      "tags": []
     },
     "output_type": "execute_result"
    }
   ],
   "source": [
    "print(f'temp {j} = {temp}')"
   ]
  },
  {
   "cell_type": "code",
   "execution_count": null,
   "metadata": {
    "colab": {
     "base_uri": "https://localhost:8080/"
    },
    "id": "Pypt_RdB4Rbr",
    "outputId": "d0a9c167-2209-4ea8-d591-6c2c3fcf9442"
   },
   "outputs": [
    {
     "name": "stderr",
     "output_type": "stream",
     "text": [
      "/usr/local/lib/python3.7/dist-packages/ipykernel_launcher.py:1: RuntimeWarning: invalid value encountered in power\n",
      "  \"\"\"Entry point for launching an IPython kernel.\n"
     ]
    },
    {
     "data": {
      "text/plain": [
       "array([0.21894036,        nan, 1.16898209, 3.28916411,        nan])"
      ]
     },
     "execution_count": 56,
     "metadata": {
      "tags": []
     },
     "output_type": "execute_result"
    }
   ],
   "source": [
    "L**(1/beta)"
   ]
  },
  {
   "cell_type": "code",
   "execution_count": null,
   "metadata": {
    "id": "8sW1DuVeUs7l"
   },
   "outputs": [],
   "source": [
    "init_pop = generate_population(100, 5, par_range)\n"
   ]
  },
  {
   "cell_type": "code",
   "execution_count": null,
   "metadata": {
    "colab": {
     "base_uri": "https://localhost:8080/"
    },
    "id": "SlU6TAOQmuMq",
    "outputId": "8395c159-0321-4f53-e807-41f126faf4f0"
   },
   "outputs": [
    {
     "data": {
      "text/plain": [
       "0"
      ]
     },
     "execution_count": 70,
     "metadata": {
      "tags": []
     },
     "output_type": "execute_result"
    }
   ],
   "source": [
    "2%2"
   ]
  },
  {
   "cell_type": "code",
   "execution_count": null,
   "metadata": {
    "id": "-syDZI-KmwDr"
   },
   "outputs": [],
   "source": [
    "a=np.zeros(n_pop)"
   ]
  },
  {
   "cell_type": "code",
   "execution_count": null,
   "metadata": {
    "colab": {
     "base_uri": "https://localhost:8080/"
    },
    "id": "tP95qrf1oLx9",
    "outputId": "7aeb1806-cd00-4c90-d18a-583a41006861"
   },
   "outputs": [
    {
     "name": "stderr",
     "output_type": "stream",
     "text": [
      "/usr/local/lib/python3.7/dist-packages/ipykernel_launcher.py:5: RuntimeWarning: invalid value encountered in power\n",
      "  \"\"\"\n"
     ]
    }
   ],
   "source": [
    "beta = 3/2\n",
    "sigma = (math.gamma(1+beta)*np.sin(np.pi*beta/2)/(math.gamma((1+beta)/2)*beta*2**((beta-1)/2)))**(1/beta)\n",
    "u = np.random.normal(0, 1, 5)*sigma\n",
    "v = np.random.normal(0, 1, 5)\n",
    "L = np.divide(u, abs(v))**(1./beta)"
   ]
  },
  {
   "cell_type": "code",
   "execution_count": null,
   "metadata": {
    "colab": {
     "base_uri": "https://localhost:8080/"
    },
    "id": "to5TqW90oMpa",
    "outputId": "182c77e5-182f-463f-f0fc-604327a88f5c"
   },
   "outputs": [
    {
     "data": {
      "text/plain": [
       "array([1.62514997, 3.6538686 ,        nan,        nan, 2.02343974])"
      ]
     },
     "execution_count": 59,
     "metadata": {
      "tags": []
     },
     "output_type": "execute_result"
    }
   ],
   "source": [
    "L"
   ]
  },
  {
   "cell_type": "code",
   "execution_count": null,
   "metadata": {
    "colab": {
     "base_uri": "https://localhost:8080/"
    },
    "id": "mbOsNlEb1gMr",
    "outputId": "28d7e034-bc9e-4948-c556-2376c8cd7e12"
   },
   "outputs": [
    {
     "data": {
      "text/plain": [
       "array([-0.34372636, -0.79355025,  0.6496715 ,  0.6215462 , -1.44469259])"
      ]
     },
     "execution_count": 52,
     "metadata": {
      "tags": []
     },
     "output_type": "execute_result"
    }
   ],
   "source": [
    "v"
   ]
  },
  {
   "cell_type": "code",
   "execution_count": null,
   "metadata": {
    "colab": {
     "base_uri": "https://localhost:8080/"
    },
    "id": "adODBAZ83AOY",
    "outputId": "02811924-4d93-4e7f-866f-64b85eebeb30"
   },
   "outputs": [
    {
     "data": {
      "text/plain": [
       "array([0.68156782, 0.49868255, 0.2276913 , 0.43127231, 0.27513851])"
      ]
     },
     "execution_count": 53,
     "metadata": {
      "tags": []
     },
     "output_type": "execute_result"
    }
   ],
   "source": [
    "np.divide(abs(u), abs(v))**(1./beta)"
   ]
  },
  {
   "cell_type": "code",
   "execution_count": null,
   "metadata": {
    "colab": {
     "base_uri": "https://localhost:8080/"
    },
    "id": "Ks05XnFFAC-j",
    "outputId": "21907540-1e1a-4721-e100-9939ad55c44d"
   },
   "outputs": [
    {
     "data": {
      "text/plain": [
       "(-0.34078391009135495+0.5902550466802113j)"
      ]
     },
     "execution_count": 57,
     "metadata": {
      "tags": []
     },
     "output_type": "execute_result"
    }
   ],
   "source": [
    "(0.1934089/-0.34372636)**(1./beta)"
   ]
  },
  {
   "cell_type": "code",
   "execution_count": null,
   "metadata": {
    "colab": {
     "base_uri": "https://localhost:8080/"
    },
    "id": "upSrvi-QAa9r",
    "outputId": "03f53f9e-534b-486e-cefc-72ef9b14bc45"
   },
   "outputs": [
    {
     "data": {
      "text/plain": [
       "array([[-1,  0],\n",
       "       [-1,  0],\n",
       "       [ 0,  0],\n",
       "       [ 0,  0],\n",
       "       [ 0,  0]])"
      ]
     },
     "execution_count": 16,
     "metadata": {
      "tags": []
     },
     "output_type": "execute_result"
    }
   ],
   "source": [
    "speed_bound"
   ]
  },
  {
   "cell_type": "code",
   "execution_count": null,
   "metadata": {
    "colab": {
     "base_uri": "https://localhost:8080/"
    },
    "id": "onJwrhHIA5bw",
    "outputId": "d3d923bc-d200-4f5e-b516-b2e6a570ebea"
   },
   "outputs": [
    {
     "data": {
      "text/plain": [
       "0.0012221"
      ]
     },
     "execution_count": 9,
     "metadata": {
      "tags": []
     },
     "output_type": "execute_result"
    }
   ],
   "source": [
    "round(0.001222058269043403,7)"
   ]
  },
  {
   "cell_type": "code",
   "execution_count": null,
   "metadata": {
    "id": "SpJEGl226-hH"
   },
   "outputs": [],
   "source": []
  }
 ],
 "metadata": {
  "colab": {
   "collapsed_sections": [],
   "name": "FPA Tuning.ipynb",
   "provenance": []
  },
  "kernelspec": {
   "display_name": "Python 3",
   "language": "python",
   "name": "python3"
  },
  "language_info": {
   "codemirror_mode": {
    "name": "ipython",
    "version": 3
   },
   "file_extension": ".py",
   "mimetype": "text/x-python",
   "name": "python",
   "nbconvert_exporter": "python",
   "pygments_lexer": "ipython3",
   "version": "3.7.1"
  }
 },
 "nbformat": 4,
 "nbformat_minor": 1
}
