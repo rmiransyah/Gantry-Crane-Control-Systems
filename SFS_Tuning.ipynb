{
 "cells": [
  {
   "cell_type": "markdown",
   "metadata": {
    "id": "6cwiwnkNKliK"
   },
   "source": [
    "#SFS Tuning for PID-PD Controller"
   ]
  },
  {
   "cell_type": "markdown",
   "metadata": {
    "id": "Qnuqo-xLKrS8"
   },
   "source": [
    "##Import Library"
   ]
  },
  {
   "cell_type": "code",
   "execution_count": 3,
   "metadata": {
    "colab": {
     "base_uri": "https://localhost:8080/"
    },
    "id": "vUpBSH9PKE1Q",
    "outputId": "c3abd32c-c0d5-4cb3-f0f0-724af47bef30"
   },
   "outputs": [
    {
     "name": "stdout",
     "output_type": "stream",
     "text": [
      "Requirement already satisfied: control in c:\\users\\raihan miransyah\\anaconda3\\lib\\site-packages (0.8.4)\n",
      "Requirement already satisfied: numpy in c:\\users\\raihan miransyah\\anaconda3\\lib\\site-packages (from control) (1.19.4)\n",
      "Requirement already satisfied: matplotlib in c:\\users\\raihan miransyah\\anaconda3\\lib\\site-packages (from control) (3.3.2)\n",
      "Requirement already satisfied: scipy in c:\\users\\raihan miransyah\\anaconda3\\lib\\site-packages (from control) (1.5.2)\n",
      "Requirement already satisfied: kiwisolver>=1.0.1 in c:\\users\\raihan miransyah\\anaconda3\\lib\\site-packages (from matplotlib->control) (1.3.0)\n",
      "Requirement already satisfied: pyparsing!=2.0.4,!=2.1.2,!=2.1.6,>=2.0.3 in c:\\users\\raihan miransyah\\anaconda3\\lib\\site-packages (from matplotlib->control) (2.4.7)\n",
      "Requirement already satisfied: cycler>=0.10 in c:\\users\\raihan miransyah\\anaconda3\\lib\\site-packages (from matplotlib->control) (0.10.0)\n",
      "Requirement already satisfied: certifi>=2020.06.20 in c:\\users\\raihan miransyah\\anaconda3\\lib\\site-packages (from matplotlib->control) (2020.12.5)\n",
      "Requirement already satisfied: python-dateutil>=2.1 in c:\\users\\raihan miransyah\\anaconda3\\lib\\site-packages (from matplotlib->control) (2.8.1)\n",
      "Requirement already satisfied: pillow>=6.2.0 in c:\\users\\raihan miransyah\\anaconda3\\lib\\site-packages (from matplotlib->control) (8.0.1)\n",
      "Requirement already satisfied: six in c:\\users\\raihan miransyah\\anaconda3\\lib\\site-packages (from cycler>=0.10->matplotlib->control) (1.15.0)\n",
      "Requirement already satisfied: ipython-autotime in c:\\users\\raihan miransyah\\anaconda3\\lib\\site-packages (0.3.1)\n",
      "Requirement already satisfied: ipython in c:\\users\\raihan miransyah\\anaconda3\\lib\\site-packages (from ipython-autotime) (7.19.0)\n",
      "Requirement already satisfied: pygments in c:\\users\\raihan miransyah\\anaconda3\\lib\\site-packages (from ipython->ipython-autotime) (2.7.3)\n",
      "Requirement already satisfied: jedi>=0.10 in c:\\users\\raihan miransyah\\anaconda3\\lib\\site-packages (from ipython->ipython-autotime) (0.17.1)\n",
      "Requirement already satisfied: traitlets>=4.2 in c:\\users\\raihan miransyah\\anaconda3\\lib\\site-packages (from ipython->ipython-autotime) (5.0.5)\n",
      "Requirement already satisfied: setuptools>=18.5 in c:\\users\\raihan miransyah\\anaconda3\\lib\\site-packages (from ipython->ipython-autotime) (51.0.0.post20201207)\n",
      "Requirement already satisfied: prompt-toolkit!=3.0.0,!=3.0.1,<3.1.0,>=2.0.0 in c:\\users\\raihan miransyah\\anaconda3\\lib\\site-packages (from ipython->ipython-autotime) (3.0.8)\n",
      "Requirement already satisfied: decorator in c:\\users\\raihan miransyah\\anaconda3\\lib\\site-packages (from ipython->ipython-autotime) (4.4.2)\n",
      "Requirement already satisfied: backcall in c:\\users\\raihan miransyah\\anaconda3\\lib\\site-packages (from ipython->ipython-autotime) (0.2.0)\n",
      "Requirement already satisfied: colorama in c:\\users\\raihan miransyah\\anaconda3\\lib\\site-packages (from ipython->ipython-autotime) (0.4.4)\n",
      "Requirement already satisfied: pickleshare in c:\\users\\raihan miransyah\\anaconda3\\lib\\site-packages (from ipython->ipython-autotime) (0.7.5)\n",
      "Requirement already satisfied: parso<0.8.0,>=0.7.0 in c:\\users\\raihan miransyah\\anaconda3\\lib\\site-packages (from jedi>=0.10->ipython->ipython-autotime) (0.7.0)\n",
      "Requirement already satisfied: wcwidth in c:\\users\\raihan miransyah\\anaconda3\\lib\\site-packages (from prompt-toolkit!=3.0.0,!=3.0.1,<3.1.0,>=2.0.0->ipython->ipython-autotime) (0.2.5)\n",
      "Requirement already satisfied: ipython-genutils in c:\\users\\raihan miransyah\\anaconda3\\lib\\site-packages (from traitlets>=4.2->ipython->ipython-autotime) (0.2.0)\n",
      "The autotime extension is already loaded. To reload it, use:\n",
      "  %reload_ext autotime\n",
      "time: 4.06 s (started: 2021-04-19 01:25:22 +07:00)\n"
     ]
    }
   ],
   "source": [
    "!pip install control\n",
    "!pip install ipython-autotime\n",
    "%load_ext autotime\n",
    "\n",
    "import numpy as np\n",
    "from control import *\n",
    "from control.matlab import *\n",
    "import matplotlib.pyplot as plt\n",
    "import random as rnd\n",
    "from math import ceil"
   ]
  },
  {
   "cell_type": "markdown",
   "metadata": {
    "id": "OTJwFKCOKypM"
   },
   "source": [
    "##Gantry Crane Model"
   ]
  },
  {
   "cell_type": "markdown",
   "metadata": {
    "id": "VhSmHih5K4hG"
   },
   "source": [
    "![Untitled Diagram (1).png](data:image/png;base64,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)"
   ]
  },
  {
   "cell_type": "code",
   "execution_count": 4,
   "metadata": {
    "id": "jI_Fyq-oK1rN"
   },
   "outputs": [
    {
     "name": "stdout",
     "output_type": "stream",
     "text": [
      "time: 0 ns (started: 2021-04-19 01:25:31 +07:00)\n"
     ]
    }
   ],
   "source": [
    "#gantry model\n",
    "\n",
    "#parameters\n",
    "m1 = 1            #payload\n",
    "m2 = 1.5          #trolley\n",
    "l = 0.5           #rope length\n",
    "g = 9.81          #gravitational acceleration\n",
    "D = 12.32         #damping constant\n",
    "R = 0.5           #motor resistant\n",
    "Kt = 0.0071619    #torque constant\n",
    "Ke = 0.0071619    #electric constant\n",
    "rp = 0.012        #pulley radius\n",
    "r = 1             #gear ratio\n",
    "\n",
    "#state space representation\n",
    "a = ((R*rp)/(Kt*r))*(m1+m2)\n",
    "b = ((Ke*r)/(rp))+((D*R*rp)/(Kt*r))\n",
    "c = ((m1*l*R*rp)/(Kt*r))\n",
    "\n",
    "a22 = (-b)/(a -(c/l))\n",
    "a23 = (c*g)/(l*(a-(c/l)))\n",
    "a42 = (b)/(a*(l-(c/a)))\n",
    "a43 = (-g)/(l-(c/a))\n",
    "\n",
    "b21 = 1/(a-(c/l))\n",
    "b41 = (-1)/(a*(l-(c/a)))\n",
    "\n",
    "A = [[0,1,0,0],\n",
    "     [0,a22,a23,0],\n",
    "     [0,0,0,1],\n",
    "     [0,a42,a43,0]]\n",
    "\n",
    "B = [[0],\n",
    "     [b21],\n",
    "     [0],\n",
    "     [b41]]\n",
    "\n",
    "Cp = [1,0,0,0]\n",
    "Cs = [0,0,1,0]\n",
    "\n",
    "D = [0]\n",
    "\n",
    "ss_pos = ss(A,B,Cp,D)\n",
    "ss_swy = ss(A,B,Cs,D)\n",
    "tf_pos = tf(ss_pos)\n",
    "tf_swy = tf(ss_swy)\n",
    "\n",
    "tf_sys = [tf_pos,tf_swy]"
   ]
  },
  {
   "cell_type": "markdown",
   "metadata": {
    "id": "YHTC_S-wLDMG"
   },
   "source": [
    "##Closed Loop System"
   ]
  },
  {
   "cell_type": "code",
   "execution_count": 5,
   "metadata": {
    "id": "UyvB0PtRLE30"
   },
   "outputs": [
    {
     "name": "stdout",
     "output_type": "stream",
     "text": [
      "time: 0 ns (started: 2021-04-19 01:25:51 +07:00)\n"
     ]
    }
   ],
   "source": [
    "# Closed loop system\n",
    "# Input argument :\n",
    "# param : [Kp,Ki,Kd,Kps,Kds] (1x5 list)\n",
    "# tf_sys : [tf_pos,tf_swy] (1x2 list)\n",
    "# t_sim : (1xn list) or simulation duration\n",
    "\n",
    "def closed_loop(param,tf_sys,t_sim): \n",
    "    pos,swy = tf_sys # pos: position transfer function, swy: sway transfer function\n",
    "\n",
    "    Kp, Ki, Kd, Kps, Kds = param # Kp,Ki,Kd (position PID controller); Kps, Kds (sway angle PD controller)\n",
    "\n",
    "    pid = tf([Kd, Kp, Ki],[1,0]) # position PID controller\n",
    "    pd = tf([Kds,Kps],1) # sway angle PD controller\n",
    "\n",
    "    #This is a SIMO system (Single Input Multiple Output), divide the output transfer function\n",
    "    #to make it easier for simulation\n",
    "    #Position Output\n",
    "    feedblk1 = feedback(1,(pd*swy),sign=1) \n",
    "    pos_blk = feedback(pid*feedblk1*pos,1,sign=-1)\n",
    "    [yp,_] = step(pos_blk,t_sim) \n",
    "\n",
    "    #Sway Output\n",
    "    feedblk2 = feedback(1,pos*pid,sign=-1)\n",
    "    feedblk3 = feedback(feedblk2*swy,pd,sign=1)\n",
    "    swy_blk = pid*feedblk3\n",
    "    [ys,_] = step(swy_blk,t_sim)\n",
    "\n",
    "    #routh stability criterion\n",
    "    # real poles < 0 == stable\n",
    "    poles_p = pole(pos_blk)\n",
    "    for i in poles_p.real:\n",
    "        if i > 0:\n",
    "            return False\n",
    "        else:\n",
    "            poles_s = pole(swy_blk)\n",
    "            for i in poles_s.real:\n",
    "                if i > 0:\n",
    "                    return False\n",
    "\n",
    "    return [yp,ys]"
   ]
  },
  {
   "cell_type": "markdown",
   "metadata": {
    "id": "9gIznx8vfqye"
   },
   "source": [
    "## Trajectory Reference"
   ]
  },
  {
   "cell_type": "code",
   "execution_count": 6,
   "metadata": {
    "colab": {
     "base_uri": "https://localhost:8080/"
    },
    "id": "dldAKXTbLGel",
    "outputId": "192f109c-3cda-4c55-f1a8-0fef276aafed"
   },
   "outputs": [
    {
     "name": "stdout",
     "output_type": "stream",
     "text": [
      "SSE = 7.467358866275475e-05 , SettlingTime = 4.24, RiseTime = 2.6, Oveshoot = 0.0\n"
     ]
    },
    {
     "data": {
      "text/plain": [
       "Text(0.5, 1.0, 'X reference model')"
      ]
     },
     "execution_count": 6,
     "metadata": {},
     "output_type": "execute_result"
    },
    {
     "data": {
      "image/png": "[encoded data removed]",
      "text/plain": [
       "<Figure size 432x288 with 1 Axes>"
      ]
     },
     "metadata": {
      "needs_background": "light"
     },
     "output_type": "display_data"
    },
    {
     "name": "stdout",
     "output_type": "stream",
     "text": [
      "time: 125 ms (started: 2021-04-19 01:26:01 +07:00)\n"
     ]
    }
   ],
   "source": [
    "# refernce trajectory (step signal)\n",
    "def step_signal(value,time):\n",
    "    signal = np.zeros_like(time)\n",
    "    signal[time>=0] = 1\n",
    "    return value*signal\n",
    "\n",
    "#x_ref model 3th order ITAE\n",
    "#still editable and needs some check and validation\n",
    "damp_rat = 0.7         #damping ratio\n",
    "Ts = 1.7                   \n",
    "w = 4/(damp_rat*Ts)\n",
    "num = w**3\n",
    "den = [1,1.75*w, 2.15*w**2, 1.5*w**3]\n",
    "x_ref_tf = tf(num,den)\n",
    "x_ref_sys = feedback(x_ref_tf,-1)\n",
    "\n",
    "t_sim = np.arange(0,10,0.01)\n",
    "\n",
    "\n",
    "[x_ref,_] = step(0.5*x_ref_sys,t_sim)  #simulating trajectory\n",
    "\n",
    "#step info\n",
    "SSE_x = abs(1 - x_ref[-1])\n",
    "OS_x = (x_ref.max()/x_ref[-1]-1) #overshoot\n",
    "Tr_x= t_sim[next(i for i in range(0,len(x_ref)-1) if x_ref[i]>x_ref[-1]*.90)]-t_sim[0] #rise time\n",
    "try:\n",
    "    Ts_x = t_sim[next(len(x_ref)-i for i in range(2,len(x_ref)-1) if abs(x_ref[-i]/x_ref[-1])<0.98)]-t_sim[0]\n",
    "except StopIteration :\n",
    "    eval_pos = False\n",
    "\n",
    "print(\"SSE = {a} , SettlingTime = {b}, RiseTime = {c}, Oveshoot = {d}\".format(a = SSE_x,b = Ts_x, c = Tr_x , d = OS_x))\n",
    "\n",
    "plt.plot(t_sim,x_ref,label='Response')\n",
    "plt.legend()\n",
    "plt.grid()\n",
    "plt.title('X reference model')"
   ]
  },
  {
   "cell_type": "markdown",
   "metadata": {
    "id": "Ll_iIV0eLJXO"
   },
   "source": [
    "##Cost"
   ]
  },
  {
   "cell_type": "code",
   "execution_count": 7,
   "metadata": {
    "id": "xwnGQ5ifLIG9"
   },
   "outputs": [
    {
     "name": "stdout",
     "output_type": "stream",
     "text": [
      "time: 0 ns (started: 2021-04-19 01:26:12 +07:00)\n"
     ]
    }
   ],
   "source": [
    "#Cost Function \n",
    "def cost_func(x_ref,yp,ys,t):\n",
    "\n",
    "    #cost function reference [1]\n",
    "    dt = t[1]-t[0]\n",
    "\n",
    "    t1 = 2.6     #rise time\n",
    "    t2 = 4.24    #settling time\n",
    "\n",
    "    idx1 = np.where(t==t1)[0][0]\n",
    "    idx2 = np.where(t==t2)[0][0]\n",
    "\n",
    "    #initial stage\n",
    "    #ITSE performance index\n",
    "    init_stage = np.multiply(t[0:idx1],(yp[0:idx1]-x_ref[0:idx1])**2)*dt\n",
    "    j_initial = sum(init_stage)\n",
    "\n",
    "    #sway cancelation\n",
    "    swy_stage = np.multiply(t[idx1:-1],(ys[idx1:-1])**2)*dt\n",
    "    j_cancel = sum(swy_stage)\n",
    "\n",
    "    #final stage\n",
    "    final_stage = np.multiply(t[idx2:-1],(yp[idx2:-1]-x_ref[idx2:-1])**2)*dt\n",
    "    j_final = sum(final_stage)\n",
    "\n",
    "    #total cost\n",
    "    j = j_initial + j_cancel + j_final\n",
    "\n",
    "    return j"
   ]
  },
  {
   "cell_type": "markdown",
   "metadata": {
    "id": "khz4a7fSLQ5N"
   },
   "source": [
    "##Generate Points, Sort Ranks, Bound Check"
   ]
  },
  {
   "cell_type": "code",
   "execution_count": 25,
   "metadata": {
    "id": "GKxks88MLMCk"
   },
   "outputs": [
    {
     "name": "stdout",
     "output_type": "stream",
     "text": [
      "time: 0 ns (started: 2021-04-19 01:37:42 +07:00)\n"
     ]
    }
   ],
   "source": [
    "def generate_population(var_size,position_bound):\n",
    "    \"\"\"\n",
    "    Generating random position and speed vector for each point.\n",
    "    var_size is an array with dimension of (total population, n-dimension based on parameters)\n",
    "    position_bound is an array with indicate the upper bound and lower bound of the parameter position\n",
    "    \"\"\"\n",
    "\n",
    "    point_position = np.zeros(var_size)\n",
    "\n",
    "    for i in range(var_size[0]):\n",
    "        for j in range(var_size[1]):\n",
    "            lim = position_bound[j]\n",
    "            point_position[i][j] = lim[0] + np.random.random()*(lim[1]-lim[0])   # generate_point = lower_bound + rand[0,1]*(upper_bound-lower_bound)\n",
    "\n",
    "    point_cost = np.zeros([np.array(point_position).shape[0],1])\n",
    "\n",
    "    return [point_position,point_cost]"
   ]
  },
  {
   "cell_type": "code",
   "execution_count": 9,
   "metadata": {
    "id": "MkzU2BHqd8Wx"
   },
   "outputs": [
    {
     "name": "stdout",
     "output_type": "stream",
     "text": [
      "time: 0 ns (started: 2021-04-19 01:26:36 +07:00)\n"
     ]
    }
   ],
   "source": [
    "def sort_rank(point_position,point_cost):\n",
    "    \"\"\"\n",
    "    The requirement for first updating process in SFS is sorting rank of the point position\n",
    "    based on cost value. from minimum to maximum cost (ascending)\n",
    "    \"\"\"\n",
    "    indices = np.argsort(point_cost,axis=0)      #sort index\n",
    "    sorted_point = np.zeros(point_position.shape)          #sorted point position array\n",
    "    sorted_cost = np.sort(point_cost,axis=0)   #sorted point cost\n",
    "\n",
    "    #sorting\n",
    "    for i in range(len(indices)):\n",
    "        sorted_point[i] = point_position[indices[i]]\n",
    "\n",
    "    return sorted_point,sorted_cost"
   ]
  },
  {
   "cell_type": "code",
   "execution_count": 29,
   "metadata": {
    "id": "QQS5yOV6dY86"
   },
   "outputs": [
    {
     "name": "stdout",
     "output_type": "stream",
     "text": [
      "time: 0 ns (started: 2021-04-19 01:40:58 +07:00)\n"
     ]
    }
   ],
   "source": [
    "def parameter_bound(point_position,position_bound):\n",
    "    var_size = point_position.shape\n",
    "    bounded_point = np.zeros(var_size)  #temporary array for bound checking\n",
    "    for i in range(var_size[0]):\n",
    "        for j in range(var_size[1]):\n",
    "            lim = position_bound[j]\n",
    "            if point_position[i][j] > lim[1] or point_position[i][j] < lim[0] :\n",
    "                bounded_point[i][j] = lim[0] + (lim[1] - lim[0])*np.random.random() \n",
    "\n",
    "    return bounded_point"
   ]
  },
  {
   "cell_type": "markdown",
   "metadata": {
    "id": "6ziCKPdhf4rl"
   },
   "source": [
    "##Diffusion"
   ]
  },
  {
   "cell_type": "code",
   "execution_count": 37,
   "metadata": {
    "id": "8nyvlVZ4f6N6"
   },
   "outputs": [
    {
     "name": "stdout",
     "output_type": "stream",
     "text": [
      "time: 0 ns (started: 2021-04-19 01:53:22 +07:00)\n"
     ]
    }
   ],
   "source": [
    "def point_diffuse(point_position,max_diffuse,it,best_point,gauss_walk):\n",
    "  new_point = np.zeros(point_position.shape)\n",
    "\n",
    "  for i in range(max_diffuse):\n",
    "    for j in range(len(point_position)):\n",
    "      if np.random.rand() < gauss_walk :\n",
    "        generate_point = rnd.gauss(best_point,abs((np.log(it+1)/(it+1))*(point_position[j]-best_point)))\\\n",
    "        +(np.random.rand()*best_point - np.random.rand()*point_position[j])\n",
    "      \n",
    "      else :\n",
    "        generate_point = rnd.gauss(point_position[j],abs((np.log(it+1)/(it+1))*(point_position[j]-best_point)))\n",
    "\n",
    "      new_point[j] = np.copy(generate_point)\n",
    "  \n",
    "  return new_point"
   ]
  },
  {
   "cell_type": "markdown",
   "metadata": {
    "id": "SBbkiQKoqseq"
   },
   "source": [
    "## Updating Process"
   ]
  },
  {
   "cell_type": "code",
   "execution_count": 36,
   "metadata": {
    "id": "QhPnT63dqren"
   },
   "outputs": [
    {
     "name": "stdout",
     "output_type": "stream",
     "text": [
      "time: 0 ns (started: 2021-04-19 01:53:11 +07:00)\n"
     ]
    }
   ],
   "source": [
    "def first_update(point_position,var_size):\n",
    "  \"\"\"\n",
    "    First updating process, updating each parameter/position in each point\n",
    "    The process is similar to finding a local minimum\n",
    "  \"\"\"\n",
    "\n",
    "  idx1 = np.random.permutation(var_size[0])\n",
    "  idx2 = np.random.permutation(var_size[0])\n",
    "  first_point = np.zeros(point_position.shape)\n",
    "\n",
    "  for i in range(var_size[0]):\n",
    "    for j in range(var_size[1]):\n",
    "      pi = np.copy(point_position[i][j])        #current position\n",
    "      pr = np.copy(point_position[idx1[i]][j])  #random position parameter\n",
    "      pt = np.copy(point_position[idx2[i]][j])  #random position parameter\n",
    "\n",
    "      if np.random.rand() > ((i+1)/len(point_position)): #probability \n",
    "        first_point[i][j] = pr - (pt-pi)*np.random.rand()    #first updating point\n",
    "    \n",
    "  return first_point\n",
    "\n",
    "def second_update(first_point,best_position):\n",
    "  \"\"\"\n",
    "    Second updating process, updating whole parameter/position in each point\n",
    "    The process is similar to finding a global minimum \n",
    "  \"\"\"\n",
    "  second_point = np.zeros(point_position.shape)\n",
    "  for i in range(len(first_point)):\n",
    "     if np.random.rand() > (i+1)/len(first_point) : #probabillity\n",
    "\n",
    "       idx1 = ceil(np.random.rand()*(len(first_point)-1))\n",
    "       idx2 = ceil(np.random.rand()*(len(first_point)-1))\n",
    "\n",
    "       while idx1 == idx2:\n",
    "         idx2 = ceil(np.random.rand()*(len(first_point)-1))\n",
    "\n",
    "       pi = np.copy(first_point[i])\n",
    "       pr = np.copy(first_point[idx1])\n",
    "       pt = np.copy(first_point[idx2])\n",
    "\n",
    "       if np.random.rand() <= 0.5:\n",
    "         second_point[i] = pi - np.random.normal()*(pt-best_position)\n",
    "       elif np.random.rand() > 0.5:\n",
    "         second_point[i] = pi + np.random.normal()*(pt-pr)\n",
    "\n",
    "  return second_point"
   ]
  },
  {
   "cell_type": "markdown",
   "metadata": {
    "id": "f2DDtPaxNhv0"
   },
   "source": [
    "##Main Loop"
   ]
  },
  {
   "cell_type": "markdown",
   "metadata": {
    "id": "pQv5eLM8YuRE"
   },
   "source": [
    "###Initialize"
   ]
  },
  {
   "cell_type": "code",
   "execution_count": 34,
   "metadata": {
    "id": "hPDTkkU1NpTI"
   },
   "outputs": [
    {
     "name": "stdout",
     "output_type": "stream",
     "text": [
      "time: 0 ns (started: 2021-04-19 01:46:39 +07:00)\n"
     ]
    }
   ],
   "source": [
    "max_gen = 500\n",
    "n_sim = 5\n",
    "max_point = 20\n",
    "max_diffuse = 3\n",
    "gauss_walk = 0.5\n",
    "t_sim = np.arange(0,10,0.01)\n",
    "\n",
    "r_kp = [-50, 200]\n",
    "r_ki = [-50, 50 ]\n",
    "r_kd = [-50, 100]\n",
    "r_kps = [-50, 200]\n",
    "r_kds = [-50, 100]\n",
    "\n",
    "gain_bound = [r_kp, r_ki, r_kd, r_kps, r_kds]\n",
    "var_size = [max_point,len(gain_bound)]"
   ]
  },
  {
   "cell_type": "markdown",
   "metadata": {
    "id": "9YVLAnZCnt4P"
   },
   "source": [
    "###Loop"
   ]
  },
  {
   "cell_type": "code",
   "execution_count": 38,
   "metadata": {
    "colab": {
     "base_uri": "https://localhost:8080/"
    },
    "id": "XETLd82Cfinj",
    "outputId": "d9fcb052-b735-4603-dac5-4573591251b1"
   },
   "outputs": [
    {
     "name": "stdout",
     "output_type": "stream",
     "text": [
      "Initializing Optimization -------------------------0\n",
      "Iterasi = 1 || Best Cost = [0.48895405]\n",
      "Iterasi = 100 || Best Cost = [0.34564761]\n",
      "Iterasi = 200 || Best Cost = [0.34564761]\n",
      "Iterasi = 300 || Best Cost = [0.34564761]\n",
      "Iterasi = 400 || Best Cost = [0.34564761]\n",
      "Iterasi = 500 || Best Cost = [0.34564761]\n",
      "Initializing Optimization -------------------------1\n",
      "Iterasi = 1 || Best Cost = [0.43685849]\n",
      "Iterasi = 100 || Best Cost = [0.32372669]\n",
      "Iterasi = 200 || Best Cost = [0.32372669]\n",
      "Iterasi = 300 || Best Cost = [0.32372669]\n",
      "Iterasi = 400 || Best Cost = [0.32372669]\n",
      "Iterasi = 500 || Best Cost = [0.32372669]\n",
      "Initializing Optimization -------------------------2\n",
      "Iterasi = 1 || Best Cost = [0.75110074]\n",
      "Iterasi = 100 || Best Cost = [0.72632753]\n",
      "Iterasi = 200 || Best Cost = [0.22265159]\n",
      "Iterasi = 300 || Best Cost = [0.22265159]\n",
      "Iterasi = 400 || Best Cost = [0.22265159]\n",
      "Iterasi = 500 || Best Cost = [0.22265159]\n",
      "Initializing Optimization -------------------------3\n",
      "Iterasi = 1 || Best Cost = [0.558179]\n",
      "Iterasi = 100 || Best Cost = [0.558179]\n",
      "Iterasi = 200 || Best Cost = [0.558179]\n",
      "Iterasi = 300 || Best Cost = [0.558179]\n",
      "Iterasi = 400 || Best Cost = [0.558179]\n",
      "Iterasi = 500 || Best Cost = [0.558179]\n",
      "Initializing Optimization -------------------------4\n",
      "Iterasi = 1 || Best Cost = [0.28884996]\n",
      "Iterasi = 100 || Best Cost = [0.28884996]\n",
      "Iterasi = 200 || Best Cost = [0.28884996]\n",
      "Iterasi = 300 || Best Cost = [0.28884996]\n",
      "Iterasi = 400 || Best Cost = [0.28884996]\n",
      "Iterasi = 500 || Best Cost = [0.28884996]\n",
      "time: 32min 9s (started: 2021-04-19 01:53:27 +07:00)\n"
     ]
    }
   ],
   "source": [
    "global_history_cost = np.zeros(n_sim)\n",
    "global_history_point = np.zeros([n_sim,var_size[1]])\n",
    "\n",
    "for sim in range(n_sim):\n",
    "    print('Initializing Optimization -------------------------{}'.format(sim))\n",
    "    point_position,point_cost = generate_population(var_size,gain_bound)\n",
    "\n",
    "    #First Evaluation\n",
    "    for i in range(var_size[0]):\n",
    "        cl_sim = closed_loop(point_position[i],tf_sys,t_sim)\n",
    "        if cl_sim == False:\n",
    "            point_cost[i] = np.Inf\n",
    "        else :\n",
    "            [yp,ys] = cl_sim\n",
    "            cost = cost_func(x_ref,yp,ys,t_sim)\n",
    "            point_cost[i] = np.copy(cost)\n",
    "\n",
    "    point_position,point_cost = sort_rank(point_position,point_cost)\n",
    "\n",
    "    \"\"\"\n",
    "    finding first best point and best cost for iteration benchmark\n",
    "    Its because the array was sorted, so the best position is on the top (index = 0)\n",
    "    \"\"\"\n",
    "    best_point = np.copy(point_position[0])  #first best point\n",
    "    best_cost = np.copy(point_cost[0])          #first best cost\n",
    "\n",
    "    for it in range(max_gen):\n",
    "        \"\"\"\n",
    "        Step 1 : Generate new point using diffusion process\n",
    "        \"\"\"\n",
    "        #Diffusion\n",
    "        new_point = point_diffuse(point_position, max_diffuse, it, best_point, gauss_walk)\n",
    "        new_point = parameter_bound(new_point,gain_bound)\n",
    "        new_point_cost = np.zeros([var_size[0],1])\n",
    "    \n",
    "        #Cost calculation\n",
    "        for i in range(var_size[0]):\n",
    "            cl_sim = closed_loop(new_point[i],tf_sys,t_sim)\n",
    "            if cl_sim == False:\n",
    "                new_point_cost[i] = np.Inf\n",
    "            else :\n",
    "                [yp,ys] = cl_sim\n",
    "                cost = cost_func(x_ref,yp,ys,t_sim)\n",
    "                new_point_cost[i] = np.copy(cost)\n",
    "\n",
    "\n",
    "        new_point,new_point_cost = sort_rank(new_point,new_point_cost)\n",
    "        temp_best_point = np.copy(new_point[0])\n",
    "        temp_best_cost = np.copy(new_point_cost[0])\n",
    "\n",
    "        \"\"\"\n",
    "          Step 2 : Updating new point \n",
    "        \"\"\"\n",
    "        #First Updating Process\n",
    "        first_point = first_update(new_point,var_size)\n",
    "        first_point = parameter_bound(first_point,gain_bound)\n",
    "        first_point_cost = np.zeros([var_size[0],1])\n",
    "\n",
    "        #Cost Calculation\n",
    "        for i in range(var_size[0]):\n",
    "            cl_sim = closed_loop(first_point[i],tf_sys,t_sim)\n",
    "            if cl_sim == False:\n",
    "                first_point_cost[i] = np.Inf\n",
    "            else :\n",
    "                [yp,ys] = cl_sim\n",
    "                cost = cost_func(x_ref,yp,ys,t_sim)\n",
    "                first_point_cost[i] = np.copy(cost)\n",
    "\n",
    "        #sorting Rank based on cost value\n",
    "        first_point,first_point_cost = sort_rank(first_point,first_point_cost)\n",
    "\n",
    "        #updating point based on cost value\n",
    "        for i in range(var_size[0]):\n",
    "            if first_point_cost[i] < new_point_cost[i]:\n",
    "                new_point[i] = np.copy(first_point[i])\n",
    "                new_point_cost[i] = np.copy(first_point_cost[i])\n",
    "    \n",
    "        temp_best_point = np.copy(new_point[0])       #updating temporary best position\n",
    "        temp_best_cost = np.copy(new_point_cost[0])   #                   best cost\n",
    "\n",
    "        #Second Updating Process\n",
    "        second_point = second_update(new_point,temp_best_point)\n",
    "        second_point = parameter_bound(second_point,gain_bound)\n",
    "        second_point_cost = np.zeros([var_size[0],1])\n",
    "\n",
    "        for i in range(var_size[0]):\n",
    "            cl_sim = closed_loop(second_point[i],tf_sys,t_sim)\n",
    "            if cl_sim == False:\n",
    "                second_point_cost[i] = np.Inf\n",
    "            else :\n",
    "                [yp,ys] = cl_sim\n",
    "                cost = cost_func(x_ref,yp,ys,t_sim)\n",
    "                second_point_cost[i] = np.copy(cost)\n",
    "    \n",
    "        #sorting Rank based on cost value\n",
    "        second_point,second_point_cost = sort_rank(second_point,second_point_cost)\n",
    "\n",
    "\n",
    "        #updating new point based on cost value\n",
    "        for i in range(var_size[0]):\n",
    "            if second_point_cost[i] < new_point_cost[i]:\n",
    "                new_point[i] = np.copy(second_point[i])\n",
    "                new_point_cost[i] = np.copy(second_point_cost[i])\n",
    "    \n",
    "        #updating point (benchmark position) based on cost value\n",
    "        for i in range(var_size[0]):\n",
    "            if new_point_cost[i] < point_cost[i]:\n",
    "                point_position[i] = np.copy(new_point[i])\n",
    "                point_cost[i] = np.copy(new_point_cost[i])\n",
    "\n",
    "        best_point = np.copy(point_position[0])\n",
    "        best_cost = np.copy(point_cost[0])\n",
    "\n",
    "        if (it+1) % 100 ==0 or (it+1)==1:\n",
    "            print('Iterasi = {a} || Best Cost = {b}'.format(a=it+1,b=best_cost))\n",
    "    global_history_cost[sim] = best_cost\n",
    "    global_history_point[sim] = best_point"
   ]
  },
  {
   "cell_type": "markdown",
   "metadata": {
    "id": "pTFKS6hdu8WU"
   },
   "source": [
    "## Testing"
   ]
  },
  {
   "cell_type": "code",
   "execution_count": null,
   "metadata": {
    "colab": {
     "base_uri": "https://localhost:8080/",
     "height": 336
    },
    "id": "Lbyeqdr-_Sk9",
    "outputId": "66a0f1b8-60d1-4722-d9a7-e36f5e1ef190"
   },
   "outputs": [
    {
     "name": "stderr",
     "output_type": "stream",
     "text": [
      "/usr/local/lib/python3.7/dist-packages/scipy/signal/filter_design.py:1622: BadCoefficients: Badly conditioned filter coefficients (numerator): the results may be meaningless\n",
      "  \"results may be meaningless\", BadCoefficients)\n"
     ]
    },
    {
     "data": {
      "image/png": "[encoded data removed]",
      "text/plain": [
       "<Figure size 432x288 with 1 Axes>"
      ]
     },
     "metadata": {
      "needs_background": "light",
      "tags": []
     },
     "output_type": "display_data"
    }
   ],
   "source": [
    "#[yp,ys]= closed_loop(global_history_point[np.argmin(global_history_cost)],tf_sys,t_sim)\n",
    "\n",
    "#SFS Gain\n",
    "SFS_gain = [ 8.71423819,  0.        ,  1.40651713, 16.00728816,  3.53561121]\n",
    "[yp1,ys1]= closed_loop(SFS_gain,tf_sys,t_sim)\n",
    "cost = cost_func(x_ref,yp1,ys1,t_sim)\n",
    "\n",
    "#PSO Gain\n",
    "PSO_gain = [8.72335242e+00, 7.34558649e-03, 4.32397602e+00, 4.66974064e+01, 9.04354876e+00]\n",
    "[yp2,ys2]= closed_loop(PSO_gain,tf_sys,t_sim)\n",
    "cost = cost_func(x_ref,yp2,ys2,t_sim)\n",
    "\n",
    "#FPA Gain\n",
    "FPA_gain =  [8.69758115e+00, 2.89069672e-03, 1.54176825e+00, 1.69188668e+01, 3.93453515e+00]\n",
    "[yp3,ys3]= closed_loop(FPA_gain,tf_sys,t_sim)\n",
    "cost = cost_func(x_ref,yp3,ys3,t_sim)\n",
    "\n",
    "plt.plot(t_sim,x_ref,label='reference')\n",
    "#plt.plot(t_sim,yp1,label='SFS',color='r')\n",
    "#plt.plot(t_sim,yp2,label='PSO',color='tab:orange')\n",
    "plt.plot(t_sim,yp3,label='FPA',color='m')\n",
    "\n",
    "plt.legend()\n",
    "plt.grid()\n",
    "plt.title('FPA Tuned Position')\n",
    "plt.savefig('FPA_p Graph.jpg')\n",
    "#print('Best Solution = {} || Cost = {}'.format(global_history_point[np.argmin(global_history_cost)],cost))\n",
    "plt.show()"
   ]
  },
  {
   "cell_type": "code",
   "execution_count": null,
   "metadata": {
    "colab": {
     "base_uri": "https://localhost:8080/",
     "height": 281
    },
    "id": "nfa1gNNnAQcN",
    "outputId": "b01fe055-ba36-4342-a94d-d42ec4b81b5c"
   },
   "outputs": [
    {
     "data": {
      "image/png": "[encoded data removed]",
      "text/plain": [
       "<Figure size 432x288 with 1 Axes>"
      ]
     },
     "metadata": {
      "needs_background": "light",
      "tags": []
     },
     "output_type": "display_data"
    }
   ],
   "source": [
    "#plt.plot(t_sim,ys2,label='PSO',color='tab:orange')\n",
    "#plt.plot(t_sim,ys1,label='SFS',color='r')\n",
    "plt.plot(t_sim,ys3,label='FPA',color='m')\n",
    "plt.title('FPA Tuned Sway')\n",
    "plt.legend()\n",
    "plt.grid()\n",
    "plt.savefig('FPA_s Graph.jpg')\n",
    "plt.show()"
   ]
  },
  {
   "cell_type": "code",
   "execution_count": null,
   "metadata": {
    "colab": {
     "base_uri": "https://localhost:8080/"
    },
    "id": "TF74ns15CjuF",
    "outputId": "8bc7bf6c-a10d-4c59-9599-a61a6777d97a"
   },
   "outputs": [
    {
     "data": {
      "text/plain": [
       "array([ 8.71423819,  0.        ,  1.40651713, 16.00728816,  3.53561121])"
      ]
     },
     "execution_count": 61,
     "metadata": {
      "tags": []
     },
     "output_type": "execute_result"
    }
   ],
   "source": [
    "global_history_point[np.argmin(global_history_cost)]"
   ]
  },
  {
   "cell_type": "code",
   "execution_count": null,
   "metadata": {
    "colab": {
     "base_uri": "https://localhost:8080/",
     "height": 239
    },
    "id": "ch3plTUQlLRi",
    "outputId": "13c93472-7928-4c6b-ff96-dc2ac08ac4e5"
   },
   "outputs": [
    {
     "ename": "NameError",
     "evalue": "ignored",
     "output_type": "error",
     "traceback": [
      "\u001b[0;31m---------------------------------------------------------------------------\u001b[0m",
      "\u001b[0;31mNameError\u001b[0m                                 Traceback (most recent call last)",
      "\u001b[0;32m<ipython-input-1-771e76262b01>\u001b[0m in \u001b[0;36m<module>\u001b[0;34m()\u001b[0m\n\u001b[1;32m      3\u001b[0m \u001b[0;31m#SFS Gain\u001b[0m\u001b[0;34m\u001b[0m\u001b[0;34m\u001b[0m\u001b[0;34m\u001b[0m\u001b[0m\n\u001b[1;32m      4\u001b[0m \u001b[0mSFS_gain\u001b[0m \u001b[0;34m=\u001b[0m \u001b[0;34m[\u001b[0m \u001b[0;36m8.71423819\u001b[0m\u001b[0;34m,\u001b[0m  \u001b[0;36m0.\u001b[0m        \u001b[0;34m,\u001b[0m  \u001b[0;36m1.40651713\u001b[0m\u001b[0;34m,\u001b[0m \u001b[0;36m16.00728816\u001b[0m\u001b[0;34m,\u001b[0m  \u001b[0;36m3.53561121\u001b[0m\u001b[0;34m]\u001b[0m\u001b[0;34m\u001b[0m\u001b[0;34m\u001b[0m\u001b[0m\n\u001b[0;32m----> 5\u001b[0;31m \u001b[0;34m[\u001b[0m\u001b[0myp1\u001b[0m\u001b[0;34m,\u001b[0m\u001b[0mys1\u001b[0m\u001b[0;34m]\u001b[0m\u001b[0;34m=\u001b[0m \u001b[0mclosed_loop\u001b[0m\u001b[0;34m(\u001b[0m\u001b[0mSFS_gain\u001b[0m\u001b[0;34m,\u001b[0m\u001b[0mtf_sys\u001b[0m\u001b[0;34m,\u001b[0m\u001b[0mt_sim\u001b[0m\u001b[0;34m)\u001b[0m\u001b[0;34m\u001b[0m\u001b[0;34m\u001b[0m\u001b[0m\n\u001b[0m\u001b[1;32m      6\u001b[0m \u001b[0;31m#cost = cost_func(x_ref,yp1,ys1,t_sim)\u001b[0m\u001b[0;34m\u001b[0m\u001b[0;34m\u001b[0m\u001b[0;34m\u001b[0m\u001b[0m\n\u001b[1;32m      7\u001b[0m \u001b[0;34m\u001b[0m\u001b[0m\n",
      "\u001b[0;31mNameError\u001b[0m: name 'closed_loop' is not defined"
     ]
    }
   ],
   "source": [
    "#[yp,ys]= closed_loop(global_history_point[np.argmin(global_history_cost)],tf_sys,t_sim)\n",
    "\n",
    "#SFS Gain\n",
    "SFS_gain = [ 8.71423819,  0.        ,  1.40651713, 16.00728816,  3.53561121]\n",
    "[yp1,ys1]= closed_loop(SFS_gain,tf_sys,t_sim)\n",
    "#cost = cost_func(x_ref,yp1,ys1,t_sim)\n",
    "\n",
    "#PSO Gain\n",
    "PSO_gain = [8.72335242e+00, 7.34558649e-03, 4.32397602e+00, 4.66974064e+01, 9.04354876e+00]\n",
    "[yp2,ys2]= closed_loop(PSO_gain,tf_sys,t_sim)\n",
    "#cost = cost_func(x_ref,yp2,ys2,t_sim)\n",
    "\n",
    "#FPA Gain\n",
    "FPA_gain =  [8.69758115e+00, 2.89069672e-03, 1.54176825e+00, 1.69188668e+01, 3.93453515e+00]\n",
    "[yp3,ys3]= closed_loop(FPA_gain,tf_sys,t_sim)\n",
    "#cost = cost_func(x_ref,yp3,ys3,t_sim)\n",
    "\n",
    "#plt.plot(t_sim,yp1,label='SFS')\n",
    "plt.plot(t_sim,yp2,label='PSO')\n",
    "#plt.plot(t_sim,yp3,label='FPA')\n",
    "plt.plot(t_sim,x_ref,label='reference')\n",
    "plt.legend()\n",
    "plt.grid()\n",
    "plt.savefig('Position Graph.jpg')\n",
    "#print('Best Solution = {} || Cost = {}'.format(global_history_point[np.argmin(global_history_cost)],cost))\n",
    "plt.show()"
   ]
  },
  {
   "cell_type": "code",
   "execution_count": null,
   "metadata": {
    "colab": {
     "base_uri": "https://localhost:8080/"
    },
    "id": "oIDJoysPvEm4",
    "outputId": "21ef0456-0dd0-4a0a-a952-88539f1c627a"
   },
   "outputs": [
    {
     "name": "stdout",
     "output_type": "stream",
     "text": [
      "8.69758\n",
      "0.00289\n",
      "1.54177\n",
      "16.91887\n",
      "3.93454\n"
     ]
    }
   ],
   "source": [
    "for i in FPA_gain:\n",
    "  print(round(i,5))"
   ]
  },
  {
   "cell_type": "code",
   "execution_count": null,
   "metadata": {
    "id": "_5JBQ4M46Yi3"
   },
   "outputs": [],
   "source": []
  }
 ],
 "metadata": {
  "colab": {
   "collapsed_sections": [
    "OTJwFKCOKypM",
    "YHTC_S-wLDMG",
    "Ll_iIV0eLJXO",
    "khz4a7fSLQ5N",
    "6ziCKPdhf4rl",
    "u5WPi6hodWBF"
   ],
   "name": "SFS Tuning (rev 2).ipynb",
   "provenance": [],
   "toc_visible": true
  },
  "kernelspec": {
   "display_name": "Python 3",
   "language": "python",
   "name": "python3"
  },
  "language_info": {
   "codemirror_mode": {
    "name": "ipython",
    "version": 3
   },
   "file_extension": ".py",
   "mimetype": "text/x-python",
   "name": "python",
   "nbconvert_exporter": "python",
   "pygments_lexer": "ipython3",
   "version": "3.7.1"
  }
 },
 "nbformat": 4,
 "nbformat_minor": 1
}
